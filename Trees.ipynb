{
  "nbformat": 4,
  "nbformat_minor": 0,
  "metadata": {
    "colab": {
      "provenance": [],
      "authorship_tag": "ABX9TyOQFeSwXL0mTYQNwaHiEJkZ",
      "include_colab_link": true
    },
    "kernelspec": {
      "name": "python3",
      "display_name": "Python 3"
    },
    "language_info": {
      "name": "python"
    }
  },
  "cells": [
    {
      "cell_type": "markdown",
      "metadata": {
        "id": "view-in-github",
        "colab_type": "text"
      },
      "source": [
        "<a href=\"https://colab.research.google.com/github/Trisha1904/Placement-Training-/blob/main/Trees.ipynb\" target=\"_parent\"><img src=\"https://colab.research.google.com/assets/colab-badge.svg\" alt=\"Open In Colab\"/></a>"
      ]
    },
    {
      "cell_type": "code",
      "execution_count": null,
      "metadata": {
        "colab": {
          "base_uri": "https://localhost:8080/"
        },
        "id": "U1YoSCB2CzPZ",
        "outputId": "e83ed223-bd1d-4f48-fe31-61e5b8b8f725"
      },
      "outputs": [
        {
          "output_type": "stream",
          "name": "stdout",
          "text": [
            "[1, 1, 2, 3, 3, 5, 6, 7]\n"
          ]
        }
      ],
      "source": [
        "def count(arr):\n",
        "  result = []\n",
        "  for i in range(len(arr)):\n",
        "    count = 1\n",
        "    for j in range(i):\n",
        "      if arr[j] <= arr[i]:\n",
        "        count += 1\n",
        "    result.append(count)\n",
        "  return result\n",
        "arr= [100, 50, 60, 70, 60, 75, 80, 85]\n",
        "counts = count(arr)\n",
        "print(counts)"
      ]
    },
    {
      "cell_type": "code",
      "source": [
        "class Node:\n",
        "  def __init__(self,key):\n",
        "    self.l=None\n",
        "    self.r=None\n",
        "    self.value=key\n",
        "\n",
        "def insert(root,key):\n",
        "  if root is None:\n",
        "    return Node(key)\n",
        "  else:\n",
        "    if key<root.value:\n",
        "      root.l=insert(root.l,key)\n",
        "    else:\n",
        "      root.r=insert(root.r,key)\n",
        "    return root\n",
        "\n",
        "def inorder(root):\n",
        "  if root:\n",
        "    inorder(root.l)\n",
        "    print(root.value)\n",
        "    inorder(root.r)\n",
        "r=Node(7)\n",
        "r=insert(r,5)\n",
        "r=insert(r,3)\n",
        "r=insert(r,6)\n",
        "r=insert(r,2)\n",
        "r=insert(r,4)\n",
        "r=insert(r,1)\n",
        "\n",
        "inorder(r)\n",
        "print(r)"
      ],
      "metadata": {
        "colab": {
          "base_uri": "https://localhost:8080/"
        },
        "id": "xQ7chhumBn44",
        "outputId": "3c847a3a-45d4-450b-ab05-eb815d96e16a"
      },
      "execution_count": null,
      "outputs": [
        {
          "output_type": "stream",
          "name": "stdout",
          "text": [
            "1\n",
            "2\n",
            "3\n",
            "4\n",
            "5\n",
            "6\n",
            "7\n",
            "<__main__.Node object at 0x78242bb5f2d0>\n"
          ]
        }
      ]
    },
    {
      "cell_type": "code",
      "source": [
        "def levelOrder(root):\n",
        "  q=[]\n",
        "  q.append(root)\n",
        "  while len(q)!=0:\n",
        "    rt=q.pop(0)\n",
        "    print(rt.info,end=\"\")\n",
        "    if rt.left is not None:\n",
        "      q.append(rt.left)\n",
        "    if rt.right is not None:\n",
        "      q.append(rt.right)\n",
        "r=Node(5)\n",
        "r=append(r,3)\n",
        "r=insert(r,7)\n",
        "r=insert(r,2)\n",
        "r=insert(r,4)\n",
        "r=insert(r,6)\n",
        "r=insert(r,8)\n",
        "levelOrder(r)\n",
        "print(r)"
      ],
      "metadata": {
        "id": "3SdUagV8G_n4",
        "colab": {
          "base_uri": "https://localhost:8080/",
          "height": 211
        },
        "outputId": "e0fca64b-bdf1-4308-8505-56d441c27392"
      },
      "execution_count": null,
      "outputs": [
        {
          "output_type": "error",
          "ename": "NameError",
          "evalue": "name 'append' is not defined",
          "traceback": [
            "\u001b[0;31m---------------------------------------------------------------------------\u001b[0m",
            "\u001b[0;31mNameError\u001b[0m                                 Traceback (most recent call last)",
            "\u001b[0;32m<ipython-input-16-d779a333d991>\u001b[0m in \u001b[0;36m<cell line: 0>\u001b[0;34m()\u001b[0m\n\u001b[1;32m     10\u001b[0m       \u001b[0mq\u001b[0m\u001b[0;34m.\u001b[0m\u001b[0mappend\u001b[0m\u001b[0;34m(\u001b[0m\u001b[0mrt\u001b[0m\u001b[0;34m.\u001b[0m\u001b[0mright\u001b[0m\u001b[0;34m)\u001b[0m\u001b[0;34m\u001b[0m\u001b[0;34m\u001b[0m\u001b[0m\n\u001b[1;32m     11\u001b[0m \u001b[0mr\u001b[0m\u001b[0;34m=\u001b[0m\u001b[0mNode\u001b[0m\u001b[0;34m(\u001b[0m\u001b[0;36m5\u001b[0m\u001b[0;34m)\u001b[0m\u001b[0;34m\u001b[0m\u001b[0;34m\u001b[0m\u001b[0m\n\u001b[0;32m---> 12\u001b[0;31m \u001b[0mr\u001b[0m\u001b[0;34m=\u001b[0m\u001b[0mappend\u001b[0m\u001b[0;34m(\u001b[0m\u001b[0mr\u001b[0m\u001b[0;34m,\u001b[0m\u001b[0;36m3\u001b[0m\u001b[0;34m)\u001b[0m\u001b[0;34m\u001b[0m\u001b[0;34m\u001b[0m\u001b[0m\n\u001b[0m\u001b[1;32m     13\u001b[0m \u001b[0mr\u001b[0m\u001b[0;34m=\u001b[0m\u001b[0minsert\u001b[0m\u001b[0;34m(\u001b[0m\u001b[0mr\u001b[0m\u001b[0;34m,\u001b[0m\u001b[0;36m7\u001b[0m\u001b[0;34m)\u001b[0m\u001b[0;34m\u001b[0m\u001b[0;34m\u001b[0m\u001b[0m\n\u001b[1;32m     14\u001b[0m \u001b[0mr\u001b[0m\u001b[0;34m=\u001b[0m\u001b[0minsert\u001b[0m\u001b[0;34m(\u001b[0m\u001b[0mr\u001b[0m\u001b[0;34m,\u001b[0m\u001b[0;36m2\u001b[0m\u001b[0;34m)\u001b[0m\u001b[0;34m\u001b[0m\u001b[0;34m\u001b[0m\u001b[0m\n",
            "\u001b[0;31mNameError\u001b[0m: name 'append' is not defined"
          ]
        }
      ]
    },
    {
      "cell_type": "code",
      "source": [
        "class Node:\n",
        "  def __init__(self,data):\n",
        "    self.data=data\n",
        "    self.left=None\n",
        "    self.right=None\n",
        "  def sum(self,data):\n",
        "    if data==None:\n",
        "      return 0\n",
        "    return data.data+self.sum(data.left)+self.sum(data.right)\n",
        "root=Node(5)\n",
        "root.left=Node(2)\n",
        "root.right=Node(7)\n",
        "root.left.left=Node(1)\n",
        "root.left.right=Node(3)\n",
        "root.right.left=Node(6)\n",
        "root.right.right=Node(8)\n",
        "print(root.sum(root))"
      ],
      "metadata": {
        "colab": {
          "base_uri": "https://localhost:8080/"
        },
        "id": "_7JrGsmOTvmO",
        "outputId": "a94c2038-1776-440f-d88c-7ed1037fa1ee"
      },
      "execution_count": null,
      "outputs": [
        {
          "output_type": "stream",
          "name": "stdout",
          "text": [
            "32\n"
          ]
        }
      ]
    },
    {
      "cell_type": "code",
      "source": [
        "class Node:\n",
        "  def __init__(self,data):\n",
        "    self.data=data\n",
        "    self.left=None\n",
        "    self.right=None\n",
        "  def sum(self,data):\n",
        "    if data==None:\n",
        "      return 0\n",
        "    return data.data+self.sum(data.left)+self.sum(data.right)\n",
        "  def even(self,data):\n",
        "    if data==None:\n",
        "      return 0\n",
        "    if data.data%2==0:\n",
        "      return data.data+self.even(data.left)+self.even(data.right)\n",
        "    return self.even(data.left)+self.even(data.right)\n",
        "root=Node(5)\n",
        "root.left=Node(2)\n",
        "root.right=Node(7)\n",
        "root.left.left=Node(1)\n",
        "root.left.right=Node(3)\n",
        "root.right.left=Node(6)\n",
        "root.right.right=Node(8)\n",
        "print(root.sum(root))\n",
        "print(root.even(root))"
      ],
      "metadata": {
        "colab": {
          "base_uri": "https://localhost:8080/"
        },
        "id": "RwdWwXoOT7Fl",
        "outputId": "4d9e4b4e-aee5-49ee-ed01-94b9fe075551"
      },
      "execution_count": null,
      "outputs": [
        {
          "output_type": "stream",
          "name": "stdout",
          "text": [
            "32\n",
            "16\n"
          ]
        }
      ]
    },
    {
      "cell_type": "code",
      "source": [
        "class Node:\n",
        "  def __init__(self,data):\n",
        "    self.data=data\n",
        "    self.left=None\n",
        "    self.right=None\n",
        "  def sum(self,data):\n",
        "    if data==None:\n",
        "      return 0\n",
        "    return data.data+self.sum(data.left)+self.sum(data.right)\n",
        "  def even(self, data):\n",
        "    if data is None:\n",
        "        return\n",
        "    if data.data % 2 == 0:\n",
        "        print(data.data)\n",
        "    self.even(data.left)\n",
        "    self.even(data.right)\n",
        "root=Node(5)\n",
        "root.left=Node(2)\n",
        "root.right=Node(7)\n",
        "root.left.left=Node(1)\n",
        "root.left.right=Node(3)\n",
        "root.right.left=Node(6)\n",
        "root.right.right=Node(8)\n",
        "print(root.sum(root))\n",
        "print(root.even(root))"
      ],
      "metadata": {
        "colab": {
          "base_uri": "https://localhost:8080/"
        },
        "id": "vCF1Q4ndVEFU",
        "outputId": "1937f4a2-e70a-414f-dff8-4531cfcc9b61"
      },
      "execution_count": null,
      "outputs": [
        {
          "output_type": "stream",
          "name": "stdout",
          "text": [
            "32\n",
            "2\n",
            "6\n",
            "8\n",
            "None\n"
          ]
        }
      ]
    },
    {
      "cell_type": "code",
      "source": [
        "class Node:\n",
        "  def __init__(self,data):\n",
        "    self.data=data\n",
        "    self.left=None\n",
        "    self.right=None\n",
        "  def sum(self,data):\n",
        "    if data==None:\n",
        "      return 0\n",
        "    return data.data+self.sum(data.left)+self.sum(data.right)\n",
        "  def odd(self, data):\n",
        "    if data==None:\n",
        "        return\n",
        "    if data.data % 2 != 0:\n",
        "        print(data.data)\n",
        "    self.odd(data.left)\n",
        "    self.odd(data.right)\n",
        "root=Node(5)\n",
        "root.left=Node(2)\n",
        "root.right=Node(7)\n",
        "root.left.left=Node(1)\n",
        "root.left.right=Node(3)\n",
        "root.right.left=Node(6)\n",
        "root.right.right=Node(8)\n",
        "print(root.sum(root))\n",
        "print(root.odd(root))"
      ],
      "metadata": {
        "colab": {
          "base_uri": "https://localhost:8080/"
        },
        "id": "OMBccpZaVzpU",
        "outputId": "f942ca78-203a-4ca8-e74b-33f58317b0bf"
      },
      "execution_count": null,
      "outputs": [
        {
          "output_type": "stream",
          "name": "stdout",
          "text": [
            "32\n",
            "5\n",
            "1\n",
            "3\n",
            "7\n",
            "None\n"
          ]
        }
      ]
    },
    {
      "cell_type": "code",
      "source": [
        "class Node:\n",
        "  def __init__(self,data):\n",
        "    self.data=data\n",
        "    self.left=None\n",
        "    self.right=None\n",
        "  def sum(self,data):\n",
        "    if data==None:\n",
        "      return 0\n",
        "    return data.data+self.sum(data.left)+self.sum(data.right)\n",
        "  def odd(self, data):\n",
        "    if data==None:\n",
        "        return 0\n",
        "    if data.data % 2 != 0:\n",
        "      return data.data+self.odd(data.left)+self.odd(data.right)\n",
        "    return self.odd(data.left)+self.odd(data.right)\n",
        "root=Node(5)\n",
        "root.left=Node(2)\n",
        "root.right=Node(7)\n",
        "root.left.left=Node(1)\n",
        "root.left.right=Node(3)\n",
        "root.right.left=Node(6)\n",
        "root.right.right=Node(8)\n",
        "print(root.sum(root))\n",
        "print(root.odd(root))"
      ],
      "metadata": {
        "colab": {
          "base_uri": "https://localhost:8080/"
        },
        "id": "OPB2Iw3AWvhk",
        "outputId": "5b389140-4a3b-43dc-c8ea-e0342137ebc2"
      },
      "execution_count": null,
      "outputs": [
        {
          "output_type": "stream",
          "name": "stdout",
          "text": [
            "32\n",
            "16\n"
          ]
        }
      ]
    },
    {
      "cell_type": "code",
      "source": [
        "class Node:\n",
        "  def __init__(self,data):\n",
        "    self.data=data\n",
        "    self.left=None\n",
        "    self.right=None\n",
        "  def leaf_node(self,data):\n",
        "    if data==None:\n",
        "      return\n",
        "    if data.left==None and data.right==None:\n",
        "      print(data.data)\n",
        "    self.leaf_node(data.left)\n",
        "    self.leaf_node(data.right)\n",
        "root.leaf_node(root)"
      ],
      "metadata": {
        "colab": {
          "base_uri": "https://localhost:8080/"
        },
        "id": "gw7i0LDqYqtG",
        "outputId": "2718df0d-f91c-4f12-d589-f84002fd9cdf"
      },
      "execution_count": null,
      "outputs": [
        {
          "output_type": "stream",
          "name": "stdout",
          "text": [
            "1\n",
            "3\n",
            "6\n",
            "8\n"
          ]
        }
      ]
    },
    {
      "cell_type": "code",
      "source": [
        "class Node:\n",
        "  def __init__(self,data):\n",
        "    self.data=data\n",
        "    self.left=None\n",
        "    self.right=None\n",
        "  def k_smallest(self,k):\n",
        "    res=[]\n",
        "    def inOrder(root):\n",
        "      if root is None:\n",
        "        return\n",
        "      inOrder(root.left)\n",
        "      res.append(root.data)\n",
        "      inOrder(root.right)\n",
        "    inOrder(root)\n",
        "    print(res[k-1])\n",
        "k=3\n",
        "root=Node(5)\n",
        "root.left=Node(2)\n",
        "root.right=Node(7)\n",
        "root.left.left=Node(1)\n",
        "root.left.right=Node(3)\n",
        "root.right.left=Node(6)\n",
        "root.right.right=Node(8)\n",
        "print(root.k_smallest(k))"
      ],
      "metadata": {
        "colab": {
          "base_uri": "https://localhost:8080/"
        },
        "id": "3C31Lmjxekht",
        "outputId": "d459e445-76db-4812-c037-210a37b8954b"
      },
      "execution_count": 44,
      "outputs": [
        {
          "output_type": "stream",
          "name": "stdout",
          "text": [
            "3\n",
            "None\n"
          ]
        }
      ]
    },
    {
      "cell_type": "code",
      "source": [
        "def leaf(root):\n",
        "  if root is None:\n",
        "    return 0\n",
        "  if root.left is None and root.right is None:\n",
        "    return 1\n",
        "  lc=leaf(root.left)\n",
        "  rc=leaf(root.right)\n",
        "  return lc+rc\n",
        "print(leaf(root))"
      ],
      "metadata": {
        "id": "1A1v34yThLpI",
        "colab": {
          "base_uri": "https://localhost:8080/"
        },
        "outputId": "a9e9124f-1d4a-47ac-b5ca-cc74ded0b55f"
      },
      "execution_count": 46,
      "outputs": [
        {
          "output_type": "stream",
          "name": "stdout",
          "text": [
            "4\n"
          ]
        }
      ]
    },
    {
      "cell_type": "code",
      "source": [
        "class Node:\n",
        "  def __init__(self, data):\n",
        "    self.data = data\n",
        "    self.left = None\n",
        "    self.right = None\n",
        "  def top_view(root):\n",
        "    q = []\n",
        "    d = dict()\n",
        "    q.append((root, 0))\n",
        "    while q:\n",
        "      node, val = q.pop(0)\n",
        "      if val not in d:\n",
        "        d[val] = node.data\n",
        "      if node.left:\n",
        "        q.append((node.left, val - 1))\n",
        "      if node.right:\n",
        "        q.append((node.right, val + 1))\n",
        "    for i in sorted(d):\n",
        "      print(d[i], end=' ')\n",
        "root = Node(5)\n",
        "root.left = Node(2)\n",
        "root.right = Node(7)\n",
        "root.left.left = Node(1)\n",
        "root.left.right = Node(3)\n",
        "root.right.left = Node(6)\n",
        "root.right.right = Node(8)\n",
        "Node.top_view(root)"
      ],
      "metadata": {
        "colab": {
          "base_uri": "https://localhost:8080/"
        },
        "id": "wcSkcjxAI48G",
        "outputId": "3287950b-de9f-408c-8ec6-f97ba18cdf88"
      },
      "execution_count": 47,
      "outputs": [
        {
          "output_type": "stream",
          "name": "stdout",
          "text": [
            "1 2 5 7 8 "
          ]
        }
      ]
    },
    {
      "cell_type": "code",
      "source": [
        "class Node:\n",
        "  def __init__(self, data):\n",
        "    self.data = data\n",
        "    self.left = None\n",
        "    self.right = None\n",
        "  def bottom_view(root):\n",
        "    q = []\n",
        "    d = dict()\n",
        "    q.append((root, 0))\n",
        "    while q:\n",
        "      node, val = q.pop(0)\n",
        "      d[val] = node.data\n",
        "      if node.left:\n",
        "        q.append((node.left, val - 1))\n",
        "      if node.right:\n",
        "        q.append((node.right, val + 1))\n",
        "    for i in sorted(d):\n",
        "      print(d[i], end=' ')\n",
        "root = Node(5)\n",
        "root.left = Node(2)\n",
        "root.right = Node(7)\n",
        "root.left.left = Node(1)\n",
        "root.left.right = Node(3)\n",
        "root.right.left = Node(6)\n",
        "root.right.right = Node(8)\n",
        "Node.bottom_view(root)"
      ],
      "metadata": {
        "colab": {
          "base_uri": "https://localhost:8080/"
        },
        "id": "vOMd0l8YTXZm",
        "outputId": "4f38999e-c506-484c-af0d-5bbd44985275"
      },
      "execution_count": 48,
      "outputs": [
        {
          "output_type": "stream",
          "name": "stdout",
          "text": [
            "1 2 6 7 8 "
          ]
        }
      ]
    },
    {
      "cell_type": "code",
      "source": [
        "class Node:\n",
        "  def __init__(self, data):\n",
        "    self.data = data\n",
        "    self.left = None\n",
        "    self.right = None\n",
        "\n",
        "  def left_view(root):\n",
        "    if root is None:\n",
        "      return\n",
        "    q = []\n",
        "    d = dict()\n",
        "    q.append((root, 0))\n",
        "    while q:\n",
        "      node, level = q.pop(0)\n",
        "      if level not in d:\n",
        "        d[level] = node.data\n",
        "      if node.left:\n",
        "        q.append((node.left, level + 1))\n",
        "      if node.right:\n",
        "        q.append((node.right, level + 1))\n",
        "    for i in sorted(d):\n",
        "      print(d[i], end=' ')\n",
        "\n",
        "root = Node(5)\n",
        "root.left = Node(2)\n",
        "root.right = Node(7)\n",
        "root.left.left = Node(1)\n",
        "root.left.right = Node(3)\n",
        "root.right.left = Node(6)\n",
        "root.right.right = Node(8)\n",
        "Node.left_view(root)"
      ],
      "metadata": {
        "colab": {
          "base_uri": "https://localhost:8080/"
        },
        "id": "dfaMOF-VYP00",
        "outputId": "40c5003f-1d1f-48b1-9980-27dd3f4aaeb6"
      },
      "execution_count": 51,
      "outputs": [
        {
          "output_type": "stream",
          "name": "stdout",
          "text": [
            "5 2 1 "
          ]
        }
      ]
    },
    {
      "cell_type": "code",
      "source": [
        "class Node:\n",
        "  def __init__(self, data):\n",
        "    self.data = data\n",
        "    self.left = None\n",
        "    self.right = None\n",
        "  def right_view(root):\n",
        "    if root is None:\n",
        "      return\n",
        "    q = []\n",
        "    d = dict()\n",
        "    q.append((root, 0))\n",
        "    while q:\n",
        "      node, level = q.pop(0)\n",
        "      if level not in d:\n",
        "        d[level] = node.data\n",
        "      if node.right:\n",
        "        q.append((node.right, level + 1))\n",
        "      if node.left:\n",
        "        q.append((node.left, level + 1))\n",
        "    for i in sorted(d):\n",
        "      print(d[i], end=' ')\n",
        "root = Node(5)\n",
        "root.left = Node(2)\n",
        "root.right = Node(7)\n",
        "root.left.left = Node(1)\n",
        "root.left.right = Node(3)\n",
        "root.right.left = Node(6)\n",
        "root.right.right = Node(8)\n",
        "Node.right_view(root)"
      ],
      "metadata": {
        "colab": {
          "base_uri": "https://localhost:8080/"
        },
        "id": "MJ2f38xqYqPe",
        "outputId": "065d6d5f-2721-47d0-b0e1-e1eb890f07eb"
      },
      "execution_count": 50,
      "outputs": [
        {
          "output_type": "stream",
          "name": "stdout",
          "text": [
            "5 7 8 "
          ]
        }
      ]
    },
    {
      "cell_type": "code",
      "source": [],
      "metadata": {
        "id": "Sde7n4QrZ8j4"
      },
      "execution_count": null,
      "outputs": []
    }
  ]
}