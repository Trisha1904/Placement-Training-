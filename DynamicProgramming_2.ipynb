{
  "nbformat": 4,
  "nbformat_minor": 0,
  "metadata": {
    "colab": {
      "provenance": [],
      "authorship_tag": "ABX9TyPiLQOclodhwLMUGzjqairu",
      "include_colab_link": true
    },
    "kernelspec": {
      "name": "python3",
      "display_name": "Python 3"
    },
    "language_info": {
      "name": "python"
    }
  },
  "cells": [
    {
      "cell_type": "markdown",
      "metadata": {
        "id": "view-in-github",
        "colab_type": "text"
      },
      "source": [
        "<a href=\"https://colab.research.google.com/github/Trisha1904/Placement-Training-/blob/main/DynamicProgramming_2.ipynb\" target=\"_parent\"><img src=\"https://colab.research.google.com/assets/colab-badge.svg\" alt=\"Open In Colab\"/></a>"
      ]
    },
    {
      "cell_type": "code",
      "execution_count": null,
      "metadata": {
        "colab": {
          "base_uri": "https://localhost:8080/"
        },
        "id": "DriDD1T5Tg9B",
        "outputId": "bacbfd5f-54ec-42fa-8ff3-4f1fa7d430c1"
      },
      "outputs": [
        {
          "output_type": "stream",
          "name": "stdout",
          "text": [
            "3\n"
          ]
        }
      ],
      "source": [
        "def lcs(s1,s2,i,j):\n",
        "  if i==0 or j==0:\n",
        "    return 0\n",
        "  if s1[i-1]==s2[j-1]:\n",
        "    return 1+lcs(s1,s2,i-1,j-1)\n",
        "  else:\n",
        "    return max(lcs(s1,s2,i-1,j),lcs(s1,s2,i,j-1))\n",
        "s1=\"abcd\"\n",
        "s2=\"abce\"\n",
        "print(lcs(s1,s2,len(s1),len(s2)))"
      ]
    },
    {
      "cell_type": "code",
      "source": [
        "s1=\"abaaba\"\n",
        "s2=\"babbab\"\n",
        "n,m=len(s1),len(s2)\n",
        "dp=[[0]*(m+1) for _ in range(n+1)]\n",
        "for i in range(1,n+1):\n",
        "  for j in range(1,m+1):\n",
        "    if s1[i-1]==s2[j-1]:\n",
        "      dp[i][j]=1+dp[i-1][j-1]\n",
        "    else:\n",
        "      dp[i][j]=max(dp[i-1][j],dp[i][j-1])\n",
        "print(dp[n][m])"
      ],
      "metadata": {
        "colab": {
          "base_uri": "https://localhost:8080/"
        },
        "id": "NawjKVigirR-",
        "outputId": "aedd0e0d-aab3-490e-9e1e-b96057cb99d8"
      },
      "execution_count": null,
      "outputs": [
        {
          "output_type": "stream",
          "name": "stdout",
          "text": [
            "4\n"
          ]
        }
      ]
    },
    {
      "cell_type": "code",
      "source": [
        "s1 = \"abaaba\"\n",
        "s2 = \"babbab\"\n",
        "n, m = len(s1), len(s2)\n",
        "dp = [[0]*(m + 1) for _ in range(n + 1)]\n",
        "for i in range(1, n + 1):\n",
        "  for j in range(1, m + 1):\n",
        "    if s1[i-1]==s2[j-1]:\n",
        "      dp[i][j]=1+dp[i-1][j-1]\n",
        "    else:\n",
        "      dp[i][j]=max(dp[i-1][j],dp[i][j-1])\n",
        "i,j=n,m\n",
        "res=[]\n",
        "while i>0 and j>0:\n",
        "  if s1[i-1]==s2[j-1]:\n",
        "    res.append(s1[i-1])\n",
        "    i-=1\n",
        "    j-=1\n",
        "  elif dp[i-1][j]>dp[i][j-1]:\n",
        "    i-=1\n",
        "  else:\n",
        "    j-=1\n",
        "print(dp[n][m])\n",
        "print(''.join(reversed(res)))"
      ],
      "metadata": {
        "colab": {
          "base_uri": "https://localhost:8080/"
        },
        "id": "jBB-bJXTlzut",
        "outputId": "dc4ac8de-9910-41d5-b2a8-167d6bb2bd64"
      },
      "execution_count": null,
      "outputs": [
        {
          "output_type": "stream",
          "name": "stdout",
          "text": [
            "4\n",
            "baba\n"
          ]
        }
      ]
    },
    {
      "cell_type": "code",
      "source": [
        "coins=[1,2,5]\n",
        "amount=11\n",
        "dp=[float('inf')]*(amount+1)\n",
        "dp[0]=0\n",
        "for coin in coins:\n",
        "  for i in range(coin,amount+1):-\n",
        "    dp[i]=min(dp[i],dp[i-coin]+1)\n",
        "if dp[amount]!=float('inf'):\n",
        "  print(dp[amount])\n",
        "else:\n",
        "  print(-1)"
      ],
      "metadata": {
        "colab": {
          "base_uri": "https://localhost:8080/"
        },
        "id": "6nlHWRMI6c8H",
        "outputId": "41b274d5-84ad-457a-c615-edc66dd1c804"
      },
      "execution_count": null,
      "outputs": [
        {
          "output_type": "stream",
          "name": "stdout",
          "text": [
            "3\n"
          ]
        }
      ]
    }
  ]
}