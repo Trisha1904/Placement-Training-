{
  "nbformat": 4,
  "nbformat_minor": 0,
  "metadata": {
    "colab": {
      "provenance": [],
      "authorship_tag": "ABX9TyOBLxzkRytdORynB3D5c+k7",
      "include_colab_link": true
    },
    "kernelspec": {
      "name": "python3",
      "display_name": "Python 3"
    },
    "language_info": {
      "name": "python"
    }
  },
  "cells": [
    {
      "cell_type": "markdown",
      "metadata": {
        "id": "view-in-github",
        "colab_type": "text"
      },
      "source": [
        "<a href=\"https://colab.research.google.com/github/Trisha1904/Placement-Training-/blob/main/LinkedList.ipynb\" target=\"_parent\"><img src=\"https://colab.research.google.com/assets/colab-badge.svg\" alt=\"Open In Colab\"/></a>"
      ]
    },
    {
      "cell_type": "code",
      "source": [
        "class Node:\n",
        "  def __init__(self, val):\n",
        "    self.data = val\n",
        "    self.next = None\n",
        "class LinkedList:\n",
        "  def __init__(self):\n",
        "    self.head = None\n",
        "  def append(self,val):\n",
        "    temp=self.head\n",
        "    while(temp.next!=None):\n",
        "      temp=temp.next\n",
        "    temp.next=Node(val)\n",
        "  def display(self):\n",
        "    temp=self.head\n",
        "    while(temp!=None):\n",
        "      print(temp.data,end=\"->\")\n",
        "      temp=temp.next\n",
        "    print(None)\n",
        "l1=LinkedList()\n",
        "l1.head=Node(10)\n",
        "l1.append(1)\n",
        "l1.append(2)\n",
        "l1.append(3)\n",
        "l1.display()"
      ],
      "metadata": {
        "colab": {
          "base_uri": "https://localhost:8080/"
        },
        "id": "QKocd2IE0ORn",
        "outputId": "735f0602-adc1-4186-dfc5-f22e08824b7f"
      },
      "execution_count": null,
      "outputs": [
        {
          "output_type": "stream",
          "name": "stdout",
          "text": [
            "10->1->2->3->None\n"
          ]
        }
      ]
    },
    {
      "cell_type": "code",
      "source": [
        "class Node:\n",
        "  def __init__(self, val):\n",
        "    self.data = val\n",
        "    self.next = None\n",
        "class LinkedList:\n",
        "  def __init__(self):\n",
        "    self.head = None\n",
        "  def append(self,val):\n",
        "    temp=self.head\n",
        "    while(temp.next!=None):\n",
        "      temp=temp.next\n",
        "    temp.next=Node(val)\n",
        "  def add(self):\n",
        "    temp=self.head\n",
        "    sum=0\n",
        "    while(temp!=None):\n",
        "      if(temp.data%2==0):\n",
        "        sum+=temp.data\n",
        "      temp=temp.next\n",
        "    print(sum)\n",
        "  def display(self):\n",
        "    temp=self.head\n",
        "    while(temp!=None):\n",
        "      print(temp.data,end=\"->\")\n",
        "      temp=temp.next\n",
        "    print(None)\n",
        "l1=LinkedList()\n",
        "l1.head=Node(10)\n",
        "l1.append(1)\n",
        "l1.append(2)\n",
        "l1.add()\n",
        "l1.display()"
      ],
      "metadata": {
        "colab": {
          "base_uri": "https://localhost:8080/"
        },
        "id": "nz1e8mfz9MF3",
        "outputId": "248ae458-ad43-446e-bd08-388b87e1d5d1"
      },
      "execution_count": null,
      "outputs": [
        {
          "output_type": "stream",
          "name": "stdout",
          "text": [
            "12\n",
            "10->1->2->None\n"
          ]
        }
      ]
    },
    {
      "cell_type": "code",
      "source": [
        "class Node:\n",
        "  def __init__(self, val):\n",
        "    self.data = val\n",
        "    self.next = None\n",
        "class LinkedList:\n",
        "  def __init__(self):\n",
        "    self.head = None\n",
        "  def append(self, val):\n",
        "    temp = self.head\n",
        "    while(temp.next != None):\n",
        "      temp = temp.next\n",
        "    temp.next = Node(val)\n",
        "  def add(self):\n",
        "    temp = self.head\n",
        "    sum, i, count = 0, 0, 0\n",
        "    while(temp != None):\n",
        "      count += 1\n",
        "      if(i % 2 == 0):\n",
        "        sum += temp.data\n",
        "      temp = temp.next\n",
        "      i += 1\n",
        "    print(count)\n",
        "  def first_largest(self):\n",
        "    if self.head == None:\n",
        "      return\n",
        "    temp = self.head\n",
        "    max_val = temp.data\n",
        "    while temp != None:\n",
        "      if temp.data > max_val:\n",
        "        max_val = temp.data\n",
        "      temp = temp.next\n",
        "    print(max_val)\n",
        "  def display(self):\n",
        "    temp = self.head\n",
        "    while(temp != None):\n",
        "      print(temp.data, end=\"->\")\n",
        "      temp = temp.next\n",
        "    print(None)\n",
        "l1 = LinkedList()\n",
        "l1.head = Node(10)\n",
        "l1.append(1)\n",
        "l1.append(2)\n",
        "l1.append(2)\n",
        "l1.add()\n",
        "l1.first_largest()\n",
        "l1.display()"
      ],
      "metadata": {
        "colab": {
          "base_uri": "https://localhost:8080/"
        },
        "id": "v29JOJ5o-kn1",
        "outputId": "3018e862-d992-46d3-9183-bb225e5ca8d1"
      },
      "execution_count": null,
      "outputs": [
        {
          "output_type": "stream",
          "name": "stdout",
          "text": [
            "4\n",
            "10\n",
            "10->1->2->2->None\n"
          ]
        }
      ]
    },
    {
      "cell_type": "code",
      "source": [
        "class Node:\n",
        "  def __init__(self, val):\n",
        "    self.data = val\n",
        "    self.next = None\n",
        "class LinkedList:\n",
        "  def __init__(self):\n",
        "    self.head = None\n",
        "  def append(self, val):\n",
        "    temp = self.head\n",
        "    while(temp.next != None):\n",
        "      temp = temp.next\n",
        "    temp.next = Node(val)\n",
        "  def add(self):\n",
        "    temp = self.head\n",
        "    sum, i, count = 0, 0, 0\n",
        "    while(temp != None):\n",
        "      count += 1\n",
        "      if(i % 2 == 0):\n",
        "        sum += temp.data\n",
        "      temp = temp.next\n",
        "      i += 1\n",
        "    print(count)\n",
        "  def first_largest(self):\n",
        "    if self.head == None:\n",
        "      return\n",
        "    temp = self.head\n",
        "    max_val = temp.data\n",
        "    while temp != None:\n",
        "      if temp.data > max_val:\n",
        "        max_val = temp.data\n",
        "      temp = temp.next\n",
        "    print(max_val)\n",
        "  def second_largest(self):\n",
        "    if self.head == None:\n",
        "      return None\n",
        "    if self.head.next == None:\n",
        "      return None\n",
        "    temp = self.head\n",
        "    first = self.head.data\n",
        "    second = None\n",
        "    temp = temp.next\n",
        "    while temp != None:\n",
        "      if temp.data > first:\n",
        "        second = first\n",
        "        first = temp.data\n",
        "      elif temp.data != first:\n",
        "        if second == None or temp.data > second:\n",
        "          second = temp.data\n",
        "      temp = temp.next\n",
        "    print(second)\n",
        "\n",
        "  def display(self):\n",
        "    temp = self.head\n",
        "    while(temp != None):\n",
        "      print(temp.data, end=\"->\")\n",
        "      temp = temp.next\n",
        "    print(None)\n",
        "l1 = LinkedList()\n",
        "l1.head = Node(10)\n",
        "l1.append(9)\n",
        "l1.append(2)\n",
        "l1.append(3)\n",
        "l1.add()\n",
        "l1.first_largest()\n",
        "l1.second_largest()\n",
        "l1.display()"
      ],
      "metadata": {
        "colab": {
          "base_uri": "https://localhost:8080/"
        },
        "id": "r_SgMIPVBEs_",
        "outputId": "8a8d1acb-b9f1-46a0-e6d4-151d867d4842"
      },
      "execution_count": null,
      "outputs": [
        {
          "output_type": "stream",
          "name": "stdout",
          "text": [
            "4\n",
            "10\n",
            "9\n",
            "10->9->2->3->None\n"
          ]
        }
      ]
    },
    {
      "cell_type": "code",
      "source": [
        "class Node:\n",
        "  def __init__(self, val):\n",
        "    self.data = val\n",
        "    self.next = None\n",
        "\n",
        "class LinkedList:\n",
        "  def __init__(self):\n",
        "    self.head = None\n",
        "\n",
        "  def append(self, val):\n",
        "    temp = self.head\n",
        "    while temp.next != None:\n",
        "      temp = temp.next\n",
        "    temp.next = Node(val)\n",
        "  def find_mid(self):\n",
        "    low = self.head\n",
        "    high = self.head\n",
        "    while high != None and high.next != None:\n",
        "      low = low.next\n",
        "      high = high.next.next\n",
        "    return low.data\n",
        "  def display(self):\n",
        "    temp = self.head\n",
        "    while temp != None:\n",
        "      print(temp.data, end=\"->\")\n",
        "      temp = temp.next\n",
        "    print(\"None\")\n",
        "l1 = LinkedList()\n",
        "l1.head = Node(10)\n",
        "l1.append(20)\n",
        "l1.append(30)\n",
        "l1.append(40)\n",
        "\n",
        "mid = l1.find_mid()\n",
        "print(mid)\n",
        "l1.display()"
      ],
      "metadata": {
        "colab": {
          "base_uri": "https://localhost:8080/"
        },
        "id": "WUEfAdHYG7a9",
        "outputId": "18b1bf2e-79d0-455e-999c-1535536693d7"
      },
      "execution_count": null,
      "outputs": [
        {
          "output_type": "stream",
          "name": "stdout",
          "text": [
            "30\n",
            "10->20->30->40->None\n"
          ]
        }
      ]
    },
    {
      "cell_type": "code",
      "source": [
        "#count the number of nodes in a cycle\n",
        "class ListNode:\n",
        "    def __init__(self, data=0, next_node=None):\n",
        "        self.data = data\n",
        "        self.next = next_node\n",
        "def detect_and_count_cycle(head):\n",
        "    slow = fast = head\n",
        "    while fast and fast.next:\n",
        "        slow = slow.next\n",
        "        fast = fast.next.next\n",
        "        if slow == fast:\n",
        "            count = 1\n",
        "            current = slow.next\n",
        "            while current != slow:\n",
        "                count += 1\n",
        "                current = current.next\n",
        "            return count\n",
        "    return 0\n",
        "a = ListNode(3)\n",
        "b = ListNode(2)\n",
        "c = ListNode(0)\n",
        "d = ListNode(-4)\n",
        "a.next, b.next, c.next, d.next = b, c, d, b\n",
        "cnt = detect_and_count_cycle(a)\n",
        "if cnt:\n",
        "    print(cnt)\n",
        "x = ListNode(1)\n",
        "x.next = ListNode(2)\n",
        "x.next.next = ListNode(3)\n",
        "cnt = detect_and_count_cycle(x)\n",
        "if cnt:\n",
        "    print(cnt)"
      ],
      "metadata": {
        "colab": {
          "base_uri": "https://localhost:8080/"
        },
        "id": "y4osrKHMr8yh",
        "outputId": "02def66b-3a52-4590-8014-1d382856f88e"
      },
      "execution_count": null,
      "outputs": [
        {
          "output_type": "stream",
          "name": "stdout",
          "text": [
            "3\n"
          ]
        }
      ]
    },
    {
      "cell_type": "code",
      "source": [],
      "metadata": {
        "id": "ylC1IwHzwV9V"
      },
      "execution_count": null,
      "outputs": []
    }
  ]
}