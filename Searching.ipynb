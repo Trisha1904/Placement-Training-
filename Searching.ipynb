{
  "nbformat": 4,
  "nbformat_minor": 0,
  "metadata": {
    "colab": {
      "provenance": [],
      "authorship_tag": "ABX9TyPH7NVnGdmhW5x4auGwSHn8",
      "include_colab_link": true
    },
    "kernelspec": {
      "name": "python3",
      "display_name": "Python 3"
    },
    "language_info": {
      "name": "python"
    }
  },
  "cells": [
    {
      "cell_type": "markdown",
      "metadata": {
        "id": "view-in-github",
        "colab_type": "text"
      },
      "source": [
        "<a href=\"https://colab.research.google.com/github/Trisha1904/Placement-Training-/blob/main/Searching.ipynb\" target=\"_parent\"><img src=\"https://colab.research.google.com/assets/colab-badge.svg\" alt=\"Open In Colab\"/></a>"
      ]
    },
    {
      "cell_type": "code",
      "source": [
        "def search(nums, target):\n",
        "    result = [-1, -1]\n",
        "    left, right = 0, len(nums) - 1\n",
        "    while left <= right:\n",
        "        mid = left + (right - left) // 2\n",
        "        if nums[mid] == target:\n",
        "            result[0] = mid\n",
        "            right = mid - 1\n",
        "        elif nums[mid] < target:\n",
        "            left = mid + 1\n",
        "        else:\n",
        "            right = mid - 1\n",
        "    left, right = 0, len(nums) - 1\n",
        "    while left <= right:\n",
        "        mid = left + (right - left) // 2\n",
        "        if nums[mid] == target:\n",
        "            result[1] = mid\n",
        "            left = mid + 1\n",
        "        elif nums[mid] < target:\n",
        "            left = mid + 1\n",
        "        else:\n",
        "            right = mid - 1\n",
        "    return result\n",
        "print(search([5,7,7,8,8,10], 8))\n",
        "print(search([5,7,7,8,8,10], 6))\n",
        "print(search([], 0))\n"
      ],
      "metadata": {
        "colab": {
          "base_uri": "https://localhost:8080/"
        },
        "id": "nQ4_WgmB1JAM",
        "outputId": "a1168a60-8b7e-4e48-c427-14e9e90d0b39"
      },
      "execution_count": 32,
      "outputs": [
        {
          "output_type": "stream",
          "name": "stdout",
          "text": [
            "[3, 4]\n",
            "[-1, -1]\n",
            "[-1, -1]\n"
          ]
        }
      ]
    },
    {
      "cell_type": "code",
      "source": [
        "#left rotation\n",
        "l=[1,2,3,4,5,6,7]\n",
        "k=3\n",
        "res=l[k:]+l[:k]\n",
        "print(res)"
      ],
      "metadata": {
        "colab": {
          "base_uri": "https://localhost:8080/"
        },
        "id": "QVIuNFsY351j",
        "outputId": "fa5cc643-af60-4549-c864-2addcfefc08a"
      },
      "execution_count": 25,
      "outputs": [
        {
          "output_type": "stream",
          "name": "stdout",
          "text": [
            "[4, 5, 6, 7, 1, 2, 3]\n"
          ]
        }
      ]
    },
    {
      "cell_type": "code",
      "source": [
        "#right rotation\n",
        "l=[1,2,3,4,5,6,7]\n",
        "k=3\n",
        "res=l[-k:]+l[:-k]\n",
        "print(res)"
      ],
      "metadata": {
        "colab": {
          "base_uri": "https://localhost:8080/"
        },
        "id": "lD4W_I5LCksj",
        "outputId": "75e5bae6-d633-4593-d2e9-8f77492c2ba1"
      },
      "execution_count": 23,
      "outputs": [
        {
          "output_type": "stream",
          "name": "stdout",
          "text": [
            "[5, 6, 7, 1, 2, 3, 4]\n"
          ]
        }
      ]
    },
    {
      "cell_type": "code",
      "source": [
        "l=[1,2,3,4,5,6,7]\n",
        "k=3\n",
        "res1=l[k:]+l[:k]\n",
        "print(res1)\n",
        "res2=l[-k:]+l[:-k]\n",
        "print(res2)"
      ],
      "metadata": {
        "colab": {
          "base_uri": "https://localhost:8080/"
        },
        "id": "MTUjhT1aD4ds",
        "outputId": "d69790bd-ae58-45a2-fd3d-ed674f0b24e8"
      },
      "execution_count": 28,
      "outputs": [
        {
          "output_type": "stream",
          "name": "stdout",
          "text": [
            "[4, 5, 6, 7, 1, 2, 3]\n",
            "[5, 6, 7, 1, 2, 3, 4]\n"
          ]
        }
      ]
    },
    {
      "cell_type": "code",
      "source": [
        "l=[1,2,3,4,5,6,7]\n",
        "k=2\n",
        "for i in range(k):\n",
        "    temp=l[0]\n",
        "    for j in range(len(l)-1):\n",
        "        l[j]=l[j+1]\n",
        "    l[-1]=temp\n",
        "print(l)"
      ],
      "metadata": {
        "colab": {
          "base_uri": "https://localhost:8080/"
        },
        "id": "YeFcgBVyEWp6",
        "outputId": "506bc702-3ca6-412d-874c-fb403cb68ea1"
      },
      "execution_count": 29,
      "outputs": [
        {
          "output_type": "stream",
          "name": "stdout",
          "text": [
            "[3, 4, 5, 6, 7, 1, 2]\n"
          ]
        }
      ]
    },
    {
      "cell_type": "code",
      "source": [
        "arr=[7,8,9,1,2,3,4,5,6]\n",
        "l=0\n",
        "r=len(arr)-1\n",
        "while l<=r:\n",
        "    mid=(l+r)//2\n",
        "    if arr[mid]>arr[mid+1]:\n",
        "      res=mid\n",
        "      break\n",
        "    if arr[mid]<arr[mid-1]:\n",
        "      res=mid\n",
        "      break\n",
        "    if arr[l]>=arr[mid]:\n",
        "      r=mid-1\n",
        "    else:\n",
        "      l=mid+1\n",
        "print(res)"
      ],
      "metadata": {
        "colab": {
          "base_uri": "https://localhost:8080/"
        },
        "id": "beAEjrJ6Kh_r",
        "outputId": "8515c39e-e4a8-4bc5-b62c-1fedcd3d136f"
      },
      "execution_count": 30,
      "outputs": [
        {
          "output_type": "stream",
          "name": "stdout",
          "text": [
            "2\n"
          ]
        }
      ]
    },
    {
      "cell_type": "code",
      "source": [
        "def findPeakElement(nums):\n",
        "  n=len(nums)\n",
        "  if n==1:\n",
        "    return 0\n",
        "  if nums[0]>nums[1]:\n",
        "    return 0\n",
        "  if nums[n-1]>nums[n-2]:\n",
        "    return n-1\n",
        "  low=1\n",
        "  high=n-2\n",
        "  while low<=high:\n",
        "    mid=(low+high)//2\n",
        "    if nums[mid-1]<nums[mid] and nums[mid]>nums[mid+1]:\n",
        "      return mid\n",
        "    if nums[mid]>nums[mid-1]:\n",
        "      low=mid+1\n",
        "    else:\n",
        "      high=mid-1\n",
        "  return -1\n",
        "print(findPeakElement([1,2,3,1]))\n",
        "print(findPeakElement([1,2,1,3,5,6,4]))"
      ],
      "metadata": {
        "colab": {
          "base_uri": "https://localhost:8080/"
        },
        "id": "3GLiGW8BMV9l",
        "outputId": "4231e16c-0bc4-4837-b5a5-d5ba083fa0bf"
      },
      "execution_count": 33,
      "outputs": [
        {
          "output_type": "stream",
          "name": "stdout",
          "text": [
            "2\n",
            "5\n"
          ]
        }
      ]
    },
    {
      "cell_type": "code",
      "source": [
        "class Solution:\n",
        "    def search(self, nums: List[int], target: int) -> int:\n",
        "        left, right = 0, len(nums) - 1\n",
        "        while left <= right:\n",
        "            mid = (left + right) // 2\n",
        "            if nums[mid] == target:\n",
        "                return mid\n",
        "            if nums[left] <= nums[mid]:\n",
        "                if nums[left] <= target < nums[mid]:\n",
        "                    right = mid - 1\n",
        "                else:\n",
        "                    left = mid + 1\n",
        "            else:\n",
        "                if nums[mid] < target <= nums[right]:\n",
        "                    left = mid + 1\n",
        "                else:\n",
        "                    right = mid - 1\n",
        "        return -1\n",
        "print(Solution().search([4,5,6,7,0,1,2],0))\n",
        "print(Solution().search([4,5,6,7,0,1,2],3))"
      ],
      "metadata": {
        "colab": {
          "base_uri": "https://localhost:8080/"
        },
        "id": "AYqY5hBYtFIc",
        "outputId": "39cb5c96-55c9-47c2-9cd7-c4f768d8d0c3"
      },
      "execution_count": 35,
      "outputs": [
        {
          "output_type": "stream",
          "name": "stdout",
          "text": [
            "4\n",
            "-1\n"
          ]
        }
      ]
    },
    {
      "cell_type": "code",
      "source": [],
      "metadata": {
        "id": "uW6w3XBBCeEC"
      },
      "execution_count": null,
      "outputs": []
    }
  ]
}