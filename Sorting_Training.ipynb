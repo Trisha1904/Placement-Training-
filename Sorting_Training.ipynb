{
  "nbformat": 4,
  "nbformat_minor": 0,
  "metadata": {
    "colab": {
      "provenance": [],
      "authorship_tag": "ABX9TyOhCPd5DwQ3o7kLYWwwKjG3",
      "include_colab_link": true
    },
    "kernelspec": {
      "name": "python3",
      "display_name": "Python 3"
    },
    "language_info": {
      "name": "python"
    }
  },
  "cells": [
    {
      "cell_type": "markdown",
      "metadata": {
        "id": "view-in-github",
        "colab_type": "text"
      },
      "source": [
        "<a href=\"https://colab.research.google.com/github/Trisha1904/Placement-Training-/blob/main/Sorting_Training.ipynb\" target=\"_parent\"><img src=\"https://colab.research.google.com/assets/colab-badge.svg\" alt=\"Open In Colab\"/></a>"
      ]
    },
    {
      "cell_type": "code",
      "source": [
        "def insertionSort(arr):\n",
        "  for i in range(1, len(arr)):\n",
        "    key = arr[i]\n",
        "    j = i-1\n",
        "    while j >=0 and key < arr[j] :\n",
        "      arr[j+1] = arr[j]\n",
        "      j -= 1\n",
        "    arr[j+1] = key\n",
        "  return arr\n",
        "n = int(input(\"Enter the number of elements: \"))\n",
        "n = list(map(int, input(\"Enter the elements: \").split()))\n",
        "print(insertionSort(n))"
      ],
      "metadata": {
        "colab": {
          "base_uri": "https://localhost:8080/"
        },
        "id": "mHxZXPv6ZcOF",
        "outputId": "e0b189ae-f10f-4baf-9afc-ebb6582cc591"
      },
      "execution_count": null,
      "outputs": [
        {
          "output_type": "stream",
          "name": "stdout",
          "text": [
            "Enter the number of elements: 4\n",
            "Enter the elements: 7 9 3 8\n",
            "[3, 7, 8, 9]\n"
          ]
        }
      ]
    },
    {
      "cell_type": "code",
      "source": [
        "def bubbleSort(arr):\n",
        "  n = len(arr)\n",
        "  for i in range(n):\n",
        "    for j in range(0, n-i-1):\n",
        "      if arr[j] > arr[j+1]:\n",
        "        arr[j], arr[j+1] = arr[j+1], arr[j]\n",
        "  return arr\n",
        "n = int(input(\"Enter the number of elements: \"))\n",
        "n = list(map(int, input(\"Enter the elements: \").split()))\n",
        "print(bubbleSort(n))"
      ],
      "metadata": {
        "colab": {
          "base_uri": "https://localhost:8080/"
        },
        "id": "fvWh222IZ_vZ",
        "outputId": "e9931715-47ed-4a4e-fa8e-3e272382392f"
      },
      "execution_count": null,
      "outputs": [
        {
          "output_type": "stream",
          "name": "stdout",
          "text": [
            "Enter the number of elements: 4\n",
            "Enter the elements: 1 2 4 5\n",
            "[1, 2, 4, 5]\n"
          ]
        }
      ]
    },
    {
      "cell_type": "code",
      "source": [
        "def selectionSort(arr):\n",
        "  for i in range(len(arr)):\n",
        "    min= i\n",
        "    for j in range(i+1, len(arr)):\n",
        "      if arr[min] > arr[j]:\n",
        "        min = j\n",
        "    arr[i], arr[min] = arr[min], arr[i]\n",
        "  return arr\n",
        "n = int(input(\"Enter the number of elements: \"))\n",
        "n = list(map(int, input(\"Enter the elements: \").split()))\n",
        "print(selectionSort(n))"
      ],
      "metadata": {
        "colab": {
          "base_uri": "https://localhost:8080/"
        },
        "id": "Ov3U5AcSaSSh",
        "outputId": "0e9e0265-f177-4e15-b59f-d6b7c5190cac"
      },
      "execution_count": null,
      "outputs": [
        {
          "output_type": "stream",
          "name": "stdout",
          "text": [
            "Enter the number of elements: 4\n",
            "Enter the elements: 3 5 4 2\n",
            "[2, 3, 4, 5]\n"
          ]
        }
      ]
    },
    {
      "cell_type": "code",
      "source": [
        "def fun(arr,i,j):\n",
        "  n=len(arr)\n",
        "  flag=False\n",
        "  for i in range(i):\n",
        "    for j in range(len(arr)-1,i-1):\n",
        "      if arr[j]>arr[j+1]:\n",
        "        arr[j+1], arr[j]=arr[j+1],arr[j]\n",
        "        flage=True\n",
        "arr=[2,3,4,5,6,7]\n",
        "fun(arr,0,0)\n",
        "print(arr)"
      ],
      "metadata": {
        "colab": {
          "base_uri": "https://localhost:8080/"
        },
        "id": "i0I5xhdmgHOM",
        "outputId": "9b50b3bd-ff6f-485b-bb2c-1058918de8dd"
      },
      "execution_count": null,
      "outputs": [
        {
          "output_type": "stream",
          "name": "stdout",
          "text": [
            "[2, 3, 4, 5, 6, 7]\n"
          ]
        }
      ]
    },
    {
      "cell_type": "code",
      "source": [
        "def insertion_sort(numbers):\n",
        "    numbers.sort()\n",
        "    evens = [x for x in numbers[::-1] if x % 2 == 0]\n",
        "    odds = [x for x in numbers if x % 2 != 0]\n",
        "    print(*(evens + odds))\n",
        "insertion_sort([3, 6, 1, 7, 4, 2, 5])\n"
      ],
      "metadata": {
        "colab": {
          "base_uri": "https://localhost:8080/"
        },
        "id": "7GrtoFbFrcMj",
        "outputId": "de63096b-ceb4-468a-a3b4-bd01967eb0cc"
      },
      "execution_count": null,
      "outputs": [
        {
          "output_type": "stream",
          "name": "stdout",
          "text": [
            "6 4 2 1 3 5 7\n"
          ]
        }
      ]
    },
    {
      "cell_type": "code",
      "source": [
        "def insertion_sort(numbers):\n",
        "    numbers.sort()\n",
        "    result = []\n",
        "    for i in range(len(numbers) - 1, -1, -1):\n",
        "        if numbers[i] % 2 == 0:\n",
        "            result.append(numbers[i])\n",
        "    for j in range(len(numbers)):\n",
        "        if numbers[j] % 2 != 0:\n",
        "            result.append(numbers[j])\n",
        "    print(result)\n",
        "insertion_sort([3, 6, 1, 7, 4, 2, 5])\n"
      ],
      "metadata": {
        "colab": {
          "base_uri": "https://localhost:8080/"
        },
        "id": "SINqMvbZtxSt",
        "outputId": "1c425348-5005-4444-ad54-7c371b90f0f3"
      },
      "execution_count": null,
      "outputs": [
        {
          "output_type": "stream",
          "name": "stdout",
          "text": [
            "[6, 4, 2, 1, 3, 5, 7]\n"
          ]
        }
      ]
    },
    {
      "cell_type": "code",
      "source": [
        "l=[2,3,5,6,7]\n",
        "l.sort()\n",
        "res=[]\n",
        "for i in l:\n",
        "  if i%2!=0:\n",
        "    res.append(i)\n",
        "  else:\n",
        "    res.insert(0,i)\n",
        "print(res)"
      ],
      "metadata": {
        "colab": {
          "base_uri": "https://localhost:8080/"
        },
        "id": "LfMn4uIMxJck",
        "outputId": "9c7c0294-13ec-4492-883d-ba3d5c9a18ae"
      },
      "execution_count": null,
      "outputs": [
        {
          "output_type": "stream",
          "name": "stdout",
          "text": [
            "[6, 2, 3, 5, 7]\n"
          ]
        }
      ]
    },
    {
      "cell_type": "code",
      "source": [
        "l=[3,2,6,4,7,1,5]\n",
        "l.sort()\n",
        "print(l[-1])"
      ],
      "metadata": {
        "colab": {
          "base_uri": "https://localhost:8080/"
        },
        "id": "Qv6yCgqezl5z",
        "outputId": "b1773bb4-5d2a-47ae-8fdc-6eeb6598b33f"
      },
      "execution_count": null,
      "outputs": [
        {
          "output_type": "stream",
          "name": "stdout",
          "text": [
            "7\n"
          ]
        }
      ]
    },
    {
      "cell_type": "code",
      "source": [
        "l=[3,2,6,4,7,1,5]\n",
        "max1=0\n",
        "for i in l:\n",
        "  if i>max1:\n",
        "    max1=i\n",
        "print(max1)"
      ],
      "metadata": {
        "colab": {
          "base_uri": "https://localhost:8080/"
        },
        "id": "mi97PnRq0FN7",
        "outputId": "8c50ec91-05f7-4174-97b2-894d06c4728e"
      },
      "execution_count": null,
      "outputs": [
        {
          "output_type": "stream",
          "name": "stdout",
          "text": [
            "7\n"
          ]
        }
      ]
    },
    {
      "cell_type": "code",
      "source": [
        "#second largest\n",
        "l=[3,2,6,4,7,1,5]\n",
        "max2=0\n",
        "for i in l:\n",
        "  if i>max2:\n",
        "    max2=i-1\n",
        "print(max2)"
      ],
      "metadata": {
        "colab": {
          "base_uri": "https://localhost:8080/"
        },
        "id": "lcCJyUGp3PEC",
        "outputId": "7ccc9d66-cc7d-4515-c7c7-6e27b26578e2"
      },
      "execution_count": null,
      "outputs": [
        {
          "output_type": "stream",
          "name": "stdout",
          "text": [
            "6\n"
          ]
        }
      ]
    },
    {
      "cell_type": "code",
      "source": [
        "l=[3,2,6,4,7,1,5]\n",
        "k=4\n",
        "n=len(l)\n",
        "for i in range(k):\n",
        "  for j in range(n-i-1):\n",
        "    if l[j]>l[j+1]:\n",
        "      l[j],l[j+1]=l[j+1],l[j]\n",
        "print(l[-k])"
      ],
      "metadata": {
        "colab": {
          "base_uri": "https://localhost:8080/"
        },
        "id": "2HtpWHyk3qrQ",
        "outputId": "55bb4554-196f-4a93-d946-248c603fd07f"
      },
      "execution_count": null,
      "outputs": [
        {
          "output_type": "stream",
          "name": "stdout",
          "text": [
            "4\n"
          ]
        }
      ]
    },
    {
      "cell_type": "code",
      "source": [
        "l=[[20,12,11],[10,5,22],[16,7,30]]\n",
        "n=len(l)\n",
        "for i in range(n):\n",
        "  for j in range(0,n-1-i):\n",
        "    if l[j][1]>l[j+1][1]:\n",
        "      l[j],l[j+1]=l[j+1],l[j]\n",
        "print(l)"
      ],
      "metadata": {
        "colab": {
          "base_uri": "https://localhost:8080/"
        },
        "id": "EQrWGYTx7pIJ",
        "outputId": "40c6bd03-8918-4e52-d9fe-b8ea351e19fc"
      },
      "execution_count": null,
      "outputs": [
        {
          "output_type": "stream",
          "name": "stdout",
          "text": [
            "[[10, 5, 22], [16, 7, 30], [20, 12, 11]]\n"
          ]
        }
      ]
    },
    {
      "cell_type": "code",
      "source": [
        "def prime(x):\n",
        "  for i in x:\n",
        "    for j in range(2,int(i**0.5)+1):\n",
        "      if i%j==0:\n",
        "        break\n",
        "      return i\n",
        "  return None\n",
        "l=[[20,12,11],[10,5,22],[16,7,30]]\n",
        "b=[]\n",
        "n=len(l)\n",
        "for i in l:\n",
        "  b.append(prime(i))\n",
        "for i in range(n):\n",
        "  for j in range(0,n-i-1):\n",
        "    if b[j]>b[j+1]:\n",
        "      b[j],b[j+1]=b[j+1],b[j]\n",
        "      l[j],l[j+1]=l[j+1],l[j]\n",
        "print(l)\n"
      ],
      "metadata": {
        "colab": {
          "base_uri": "https://localhost:8080/"
        },
        "id": "_OuR45V7Ve7I",
        "outputId": "1c1ec986-a124-461f-ff44-83a92d24c158"
      },
      "execution_count": null,
      "outputs": [
        {
          "output_type": "stream",
          "name": "stdout",
          "text": [
            "[[10, 5, 22], [16, 7, 30], [20, 12, 11]]\n"
          ]
        }
      ]
    },
    {
      "cell_type": "code",
      "source": [
        "def frequency(arr):\n",
        "    freq, res = [], []\n",
        "    for ch in arr:\n",
        "        for f in freq:\n",
        "            if f[0] == ch:\n",
        "                f[1] += 1\n",
        "                break\n",
        "        else:\n",
        "            freq.append([ch, 1])\n",
        "    for i in range(len(freq)):\n",
        "        for j in range(i+1, len(freq)):\n",
        "            if freq[i][1] > freq[j][1]:\n",
        "                freq[i], freq[j] = freq[j], freq[i]\n",
        "    for ch, c in freq:\n",
        "        for _ in range(c):\n",
        "            res.append(ch)\n",
        "    return res\n",
        "print(frequency(['a', 'b', 'b', 'b', 'c', 'c']))"
      ],
      "metadata": {
        "colab": {
          "base_uri": "https://localhost:8080/"
        },
        "id": "KwfyXQEMct3U",
        "outputId": "da2f4118-713d-40e2-a5df-f60128d459a4"
      },
      "execution_count": null,
      "outputs": [
        {
          "output_type": "stream",
          "name": "stdout",
          "text": [
            "['a', 'c', 'c', 'b', 'b', 'b']\n"
          ]
        }
      ]
    },
    {
      "cell_type": "code",
      "source": [
        "s=[\"aaaa\",\"aa\",\"aaaaaa\",\"aa\"]\n",
        "freq={}\n",
        "for c in s:\n",
        "  if c in freq:\n",
        "    freq[c]+=1\n",
        "  else:\n",
        "    freq[c]=1\n",
        "sc=sorted(freq.items(),key=lambda item:item[1])\n",
        "res=\"\"\n",
        "for c,count in sc:\n",
        "  res+=c*count\n",
        "print(res)"
      ],
      "metadata": {
        "colab": {
          "base_uri": "https://localhost:8080/"
        },
        "id": "LP_pp58LmWOi",
        "outputId": "eebc457a-3e4f-44a9-9780-b8300c82a2c0"
      },
      "execution_count": 60,
      "outputs": [
        {
          "output_type": "stream",
          "name": "stdout",
          "text": [
            "aaaaaaaaaaaaaa\n"
          ]
        }
      ]
    },
    {
      "cell_type": "code",
      "source": [
        "m=[[1,0,0,1],[1,1,0,0],[0,1,0,1]]\n",
        "a=[4,3,2,6]\n",
        "for i in range(len(m)):\n",
        "  sum=0\n",
        "  for j in range(len(m[0])):\n",
        "    if m[i][j]==1:\n",
        "      sum+=a[j]\n",
        "  print(sum)"
      ],
      "metadata": {
        "colab": {
          "base_uri": "https://localhost:8080/"
        },
        "id": "t-ZRJpfkoR5o",
        "outputId": "f52e752e-acfe-4f4b-acb6-6a4e75f578a0"
      },
      "execution_count": 61,
      "outputs": [
        {
          "output_type": "stream",
          "name": "stdout",
          "text": [
            "10\n",
            "7\n",
            "9\n"
          ]
        }
      ]
    }
  ]
}