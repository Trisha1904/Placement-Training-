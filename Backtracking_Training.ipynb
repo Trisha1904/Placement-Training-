{
  "nbformat": 4,
  "nbformat_minor": 0,
  "metadata": {
    "colab": {
      "provenance": [],
      "authorship_tag": "ABX9TyNgTX4GN3udSGVpeGJVEG6s",
      "include_colab_link": true
    },
    "kernelspec": {
      "name": "python3",
      "display_name": "Python 3"
    },
    "language_info": {
      "name": "python"
    }
  },
  "cells": [
    {
      "cell_type": "markdown",
      "metadata": {
        "id": "view-in-github",
        "colab_type": "text"
      },
      "source": [
        "<a href=\"https://colab.research.google.com/github/Trisha1904/Placement-Training-/blob/main/Backtracking_Training.ipynb\" target=\"_parent\"><img src=\"https://colab.research.google.com/assets/colab-badge.svg\" alt=\"Open In Colab\"/></a>"
      ]
    },
    {
      "cell_type": "code",
      "execution_count": null,
      "metadata": {
        "colab": {
          "base_uri": "https://localhost:8080/"
        },
        "id": "kRthk3WLP3Ek",
        "outputId": "66100209-64c3-4df2-f33b-47498929e97d"
      },
      "outputs": [
        {
          "output_type": "stream",
          "name": "stdout",
          "text": [
            "45\n"
          ]
        }
      ],
      "source": [
        "m=[[1,2,3],\n",
        "   [4,5,6],\n",
        "   [7,8,9]\n",
        "  ]\n",
        "rows=len(m)\n",
        "cols=len(m[0])\n",
        "sum=0\n",
        "for i in range(rows):\n",
        "  for j in range(cols):\n",
        "    sum+=m[i][j]\n",
        "print(sum)"
      ]
    },
    {
      "cell_type": "code",
      "source": [
        "m = [\n",
        "    [1, 2],\n",
        "    [3, 4]\n",
        "]\n",
        "rows = len(m)\n",
        "cols = len(m[0])\n",
        "for i in range(rows):\n",
        "    for j in range(cols):\n",
        "        num = m[i][j]\n",
        "        if num > 1:\n",
        "            k = 2\n",
        "            is_prime = 1\n",
        "            while k * k <= num:\n",
        "                if num % k == 0:\n",
        "                    is_prime = 0\n",
        "                    break\n",
        "                k += 1\n",
        "            if is_prime == 1:\n",
        "                print(num)"
      ],
      "metadata": {
        "colab": {
          "base_uri": "https://localhost:8080/"
        },
        "id": "ADo__WKVTGij",
        "outputId": "cb6613ad-0d5c-44d8-8288-a7c522840a6d"
      },
      "execution_count": null,
      "outputs": [
        {
          "output_type": "stream",
          "name": "stdout",
          "text": [
            "2\n",
            "3\n"
          ]
        }
      ]
    },
    {
      "cell_type": "markdown",
      "source": [
        "# BACKTRACKING"
      ],
      "metadata": {
        "id": "SUJ95T6I5CVP"
      }
    },
    {
      "cell_type": "code",
      "source": [
        "m1=[\n",
        "    [2,3],[3,4]\n",
        "]\n",
        "def fun(n):\n",
        "  for i in range(i):\n",
        "    for j in range(j):\n",
        "      if m1[i][j]==len(n):\n",
        "        return True"
      ],
      "metadata": {
        "id": "jLR8jBtZWAUF"
      },
      "execution_count": null,
      "outputs": []
    },
    {
      "cell_type": "code",
      "source": [
        "def path(m,i,j,p,n):\n",
        "  if i==n-1 and j==n-1:\n",
        "    print(p)\n",
        "    return\n",
        "  if i+1<n and m[i+1][j]==1:\n",
        "    path(m,i+1,j,p+\"D\",n)\n",
        "  if j+1<n and m[i][j+1]==1:\n",
        "    path(m,i,j+1,p+\"R\",n)\n",
        "m=[[1,1,1,0],[0,1,1,0],[0,1,1,1],[0,0,0,1]]\n",
        "path(m,0,0,\" \",len(m))\n"
      ],
      "metadata": {
        "colab": {
          "base_uri": "https://localhost:8080/"
        },
        "id": "XunAtEYdW2Rh",
        "outputId": "c0947470-4080-448a-b692-b6a1116f24e6"
      },
      "execution_count": null,
      "outputs": [
        {
          "output_type": "stream",
          "name": "stdout",
          "text": [
            " RDDRRD\n",
            " RDRDRD\n",
            " RRDDRD\n"
          ]
        }
      ]
    },
    {
      "cell_type": "code",
      "source": [
        "def path(m,i,j,p,n):\n",
        "  if i==n-1 and j==n-1:\n",
        "    print(p)\n",
        "    return\n",
        "  if i+1<n and m[i+1][j]==1:\n",
        "    path(m,i+1,j,p+\"D\",n)\n",
        "  if j+1<n and m[i][j+1]==1:\n",
        "    path(m,i,j+1,p+\"R\",n)\n",
        "  if i-1>=0 and m[i-1][j]==1:\n",
        "    path(m,i-1,j,p+\"U\",n)\n",
        "  if j-1>=0 and m[i][j-1]==1:\n",
        "    path(m,i,j-1,p+\"L\",n)\n",
        "m=[[1,1,1,0],[0,1,1,0],[0,1,1,1],[0,0,0,1]]"
      ],
      "metadata": {
        "id": "v0hIOviOeCQA"
      },
      "execution_count": null,
      "outputs": []
    },
    {
      "cell_type": "code",
      "source": [
        "def fire(m,i,j):\n",
        "  if not m:\n",
        "    return\n",
        "  if i<0 or i>=len(m) or j<0 or j>=len(m) or m[i][j]!=1:\n",
        "    return\n",
        "  m[i][j]=2\n",
        "  fire(m,i+1,j)\n",
        "  fire(m,i-1,j)\n",
        "  fire(m,i,j+1)\n",
        "  fire(m,i,j-1)\n",
        "m=[[1,1,1,0],[0,1,1,0],[1,0,0,0],[1,0,0,1]]\n",
        "fire(m,0,0)\n",
        "count=0\n",
        "for i in range(len(m)):\n",
        "  for j in range(len(m[0])):\n",
        "    if m[i][j]==1:\n",
        "      count+=1\n",
        "print(count)"
      ],
      "metadata": {
        "colab": {
          "base_uri": "https://localhost:8080/"
        },
        "id": "fZOO0wAbk7Pb",
        "outputId": "debba0ef-0895-4390-8c24-663945620910"
      },
      "execution_count": null,
      "outputs": [
        {
          "output_type": "stream",
          "name": "stdout",
          "text": [
            "3\n"
          ]
        }
      ]
    },
    {
      "cell_type": "code",
      "source": [
        "def islands(m,i,j):\n",
        "  if not m:\n",
        "    return\n",
        "  if i<0 or i>=len(m) or j<0 or j>=len(m) or m[i][j]!=1:\n",
        "    return\n",
        "  m[i][j]=2\n",
        "  islands(m,i+1,j)\n",
        "  islands(m,i-1,j)\n",
        "  islands(m,i,j+1)\n",
        "  islands(m,i,j-1)\n",
        "m=[[1,0,1,0],[0,1,1,0],[1,0,1,0],[1,0,0,1]]\n",
        "count=0\n",
        "for i in range(len(m)):\n",
        "  for j in range(len(m[0])):\n",
        "    if m[i][j]==1:\n",
        "      islands(m,i,j)\n",
        "      count+=1\n",
        "print(count)"
      ],
      "metadata": {
        "colab": {
          "base_uri": "https://localhost:8080/"
        },
        "id": "z08e-s53yQ7u",
        "outputId": "9d922697-4947-4fa3-daa1-93ffaec88a0d"
      },
      "execution_count": null,
      "outputs": [
        {
          "output_type": "stream",
          "name": "stdout",
          "text": [
            "4\n"
          ]
        }
      ]
    },
    {
      "cell_type": "code",
      "source": [
        "def binary(n,res=\"\"):\n",
        "  if n==0:\n",
        "    print(res)\n",
        "    return\n",
        "  binary(n-1,res+\"0 \")\n",
        "  binary(n-1,res+\"1 \")\n",
        "n=2\n",
        "binary(n)"
      ],
      "metadata": {
        "colab": {
          "base_uri": "https://localhost:8080/"
        },
        "id": "Z5WNFSO30Tk4",
        "outputId": "c42080d1-0c53-417e-bffa-c47d4703b7b8"
      },
      "execution_count": null,
      "outputs": [
        {
          "output_type": "stream",
          "name": "stdout",
          "text": [
            "0 0 \n",
            "0 1 \n",
            "1 0 \n",
            "1 1 \n"
          ]
        }
      ]
    },
    {
      "cell_type": "code",
      "source": [
        "def parentheses(n,i=0,j=0, result=\"\"):\n",
        "  if len(result) == 2 * n:\n",
        "    print(result)\n",
        "    return\n",
        "  if i < n:\n",
        "    parentheses(n,i + 1,j, result + \"(\")\n",
        "  if j < i:\n",
        "    parentheses(n,i,j+ 1, result + \")\")\n",
        "parentheses(3)\n"
      ],
      "metadata": {
        "colab": {
          "base_uri": "https://localhost:8080/"
        },
        "id": "wrW2zf0xLnJX",
        "outputId": "b5021326-1282-4fd3-c45d-fec71c54b135"
      },
      "execution_count": null,
      "outputs": [
        {
          "output_type": "stream",
          "name": "stdout",
          "text": [
            "((()))\n",
            "(()())\n",
            "(())()\n",
            "()(())\n",
            "()()()\n"
          ]
        }
      ]
    },
    {
      "cell_type": "code",
      "source": [
        "def binary(n,res=\"\",o=0,c=0):\n",
        "  if o==n and c==n:\n",
        "    print(res)\n",
        "    return\n",
        "  if o<n:\n",
        "    binary(n,res+\"(\",o+1,c)\n",
        "  if c<o:\n",
        "    binary(n,res+\")\",o,c+1)\n",
        "n=2\n",
        "binary(n)"
      ],
      "metadata": {
        "colab": {
          "base_uri": "https://localhost:8080/"
        },
        "id": "BJgrgEWbO2J4",
        "outputId": "9e8ce45c-7c55-43f4-ca84-90eefc56e0ba"
      },
      "execution_count": null,
      "outputs": [
        {
          "output_type": "stream",
          "name": "stdout",
          "text": [
            "(())\n",
            "()()\n"
          ]
        }
      ]
    },
    {
      "cell_type": "code",
      "source": [],
      "metadata": {
        "id": "Sk4kSRX_W0km"
      },
      "execution_count": null,
      "outputs": []
    }
  ]
}