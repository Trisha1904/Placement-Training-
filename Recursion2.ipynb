{
  "nbformat": 4,
  "nbformat_minor": 0,
  "metadata": {
    "colab": {
      "provenance": [],
      "authorship_tag": "ABX9TyNHjFqMO2vZJIgcdbZjJDnp",
      "include_colab_link": true
    },
    "kernelspec": {
      "name": "python3",
      "display_name": "Python 3"
    },
    "language_info": {
      "name": "python"
    }
  },
  "cells": [
    {
      "cell_type": "markdown",
      "metadata": {
        "id": "view-in-github",
        "colab_type": "text"
      },
      "source": [
        "<a href=\"https://colab.research.google.com/github/Trisha1904/Placement-Training-/blob/main/Recursion2.ipynb\" target=\"_parent\"><img src=\"https://colab.research.google.com/assets/colab-badge.svg\" alt=\"Open In Colab\"/></a>"
      ]
    },
    {
      "cell_type": "code",
      "execution_count": 1,
      "metadata": {
        "colab": {
          "base_uri": "https://localhost:8080/"
        },
        "id": "4vvdzfMpI11w",
        "outputId": "72a6b257-43cd-498f-92ad-20e7b136cfcc"
      },
      "outputs": [
        {
          "output_type": "stream",
          "name": "stdout",
          "text": [
            "5\n",
            "15\n"
          ]
        }
      ],
      "source": [
        "#sum of natural numbers\n",
        "def fun(n):\n",
        "    if n==0:\n",
        "        return 0\n",
        "    return n+fun(n-1)\n",
        "n=int(input())\n",
        "print(fun(n))\n"
      ]
    },
    {
      "cell_type": "code",
      "source": [
        "#parametrized recursion\n",
        "def fun(n,sum):\n",
        "    if n<1:\n",
        "        print(sum)\n",
        "        return\n",
        "    fun(n-1,sum+n)\n",
        "n=int(input())\n",
        "fun(n,0)"
      ],
      "metadata": {
        "colab": {
          "base_uri": "https://localhost:8080/"
        },
        "id": "WBMQYJA7I8hc",
        "outputId": "45b94bbe-a5cd-4573-9745-7cf1f7d3726b"
      },
      "execution_count": 2,
      "outputs": [
        {
          "output_type": "stream",
          "name": "stdout",
          "text": [
            "6\n",
            "21\n"
          ]
        }
      ]
    },
    {
      "cell_type": "code",
      "source": [
        "def fun(arr,i=0,res=[]):\n",
        "  if i==len(arr):\n",
        "    print(res)\n",
        "    return\n",
        "  fun(arr,i+1,res+[arr[i]])\n",
        "  fun(arr,i+1,res)\n",
        "l=[1,2,3]\n",
        "k=5\n",
        "fun(l)"
      ],
      "metadata": {
        "colab": {
          "base_uri": "https://localhost:8080/"
        },
        "id": "j0b9dasSJHBf",
        "outputId": "5296bd2a-238d-445c-d586-d6b8fc7a5378"
      },
      "execution_count": 13,
      "outputs": [
        {
          "output_type": "stream",
          "name": "stdout",
          "text": [
            "[1, 2, 3]\n",
            "[1, 2]\n",
            "[1, 3]\n",
            "[1]\n",
            "[2, 3]\n",
            "[2]\n",
            "[3]\n",
            "[]\n"
          ]
        }
      ]
    },
    {
      "cell_type": "code",
      "source": [
        "def fun(arr,i,k):\n",
        "  if k==0:\n",
        "    return True\n",
        "  if i==0:\n",
        "    return False\n",
        "  if arr[i-1]>k:\n",
        "    return fun(arr,i-1,k)\n",
        "  return fun(arr,i-1,k) or fun(arr,i-1,k-arr[i-1])\n",
        "l=[1,2,3,8]\n",
        "k=5\n",
        "print(fun(l,len(l),k))"
      ],
      "metadata": {
        "colab": {
          "base_uri": "https://localhost:8080/"
        },
        "id": "WkvcMUCGR6Ce",
        "outputId": "c4ab8b31-d006-402f-da6d-881568d48722"
      },
      "execution_count": 14,
      "outputs": [
        {
          "output_type": "stream",
          "name": "stdout",
          "text": [
            "True\n"
          ]
        }
      ]
    },
    {
      "cell_type": "code",
      "source": [
        "def fun(arr,k,i=0,res=[]):\n",
        "  if i==len(arr):\n",
        "    if sum(res)==k:\n",
        "      print(res)\n",
        "    return\n",
        "  fun(arr,k,i+1,res+[arr[i]])\n",
        "  fun(arr,k,i+1,res)\n",
        "l=[1,2,3,6]\n",
        "k=7\n",
        "fun(l,k)"
      ],
      "metadata": {
        "colab": {
          "base_uri": "https://localhost:8080/"
        },
        "id": "s5uOS7M4qpA5",
        "outputId": "4ebd01b1-8743-409c-89e5-3cd5c1dabce8"
      },
      "execution_count": 15,
      "outputs": [
        {
          "output_type": "stream",
          "name": "stdout",
          "text": [
            "[1, 6]\n"
          ]
        }
      ]
    },
    {
      "cell_type": "code",
      "source": [
        "def fun(arr,target,i=0):\n",
        "  if i==len(arr):\n",
        "    return 0\n",
        "  if arr[i]==target:\n",
        "    return 1 + fun(arr,target,i+1)\n",
        "  else:\n",
        "    return fun(arr,target,i+1)\n",
        "arr=[1, 2, 2, 3, 4, 2, 3, 3]\n",
        "target=1\n",
        "freq=fun(arr,target)\n",
        "print(freq)"
      ],
      "metadata": {
        "colab": {
          "base_uri": "https://localhost:8080/"
        },
        "id": "ZOuqkj-FEDvu",
        "outputId": "71df41f3-5e4e-4538-896d-9435a13f72df"
      },
      "execution_count": 32,
      "outputs": [
        {
          "output_type": "stream",
          "name": "stdout",
          "text": [
            "1\n"
          ]
        }
      ]
    },
    {
      "cell_type": "code",
      "source": [
        "from posixpath import join\n",
        "t=int(input())\n",
        "for _ in range(t):\n",
        "  i=1\n",
        "  count=0\n",
        "  k=int(input())\n",
        "  while(1):\n",
        "    if i%3!=0 and i%10!=1:\n",
        "      count+=1\n",
        "      if count==k:\n",
        "        print(i)\n",
        "        break\n",
        "    i+=1"
      ],
      "metadata": {
        "colab": {
          "base_uri": "https://localhost:8080/"
        },
        "id": "674xB229IgYU",
        "outputId": "be0e91be-3844-4632-b2ad-dcb2fbc75485"
      },
      "execution_count": 36,
      "outputs": [
        {
          "output_type": "stream",
          "name": "stdout",
          "text": [
            "5\n",
            "1\n",
            "2\n",
            "3\n",
            "5\n",
            "5\n",
            "8\n",
            "64\n",
            "107\n",
            "8\n",
            "14\n"
          ]
        }
      ]
    }
  ]
}