{
  "nbformat": 4,
  "nbformat_minor": 0,
  "metadata": {
    "colab": {
      "provenance": [],
      "authorship_tag": "ABX9TyNJgdMcfB2s12ZzzFxllHBj",
      "include_colab_link": true
    },
    "kernelspec": {
      "name": "python3",
      "display_name": "Python 3"
    },
    "language_info": {
      "name": "python"
    }
  },
  "cells": [
    {
      "cell_type": "markdown",
      "metadata": {
        "id": "view-in-github",
        "colab_type": "text"
      },
      "source": [
        "<a href=\"https://colab.research.google.com/github/Trisha1904/Placement-Training-/blob/main/Problems.ipynb\" target=\"_parent\"><img src=\"https://colab.research.google.com/assets/colab-badge.svg\" alt=\"Open In Colab\"/></a>"
      ]
    },
    {
      "cell_type": "code",
      "execution_count": null,
      "metadata": {
        "colab": {
          "base_uri": "https://localhost:8080/"
        },
        "id": "cQT6CgGYYcz9",
        "outputId": "e5875b33-7811-4636-cc28-0f7320a08d66"
      },
      "outputs": [
        {
          "output_type": "stream",
          "name": "stdout",
          "text": [
            "5\n"
          ]
        }
      ],
      "source": [
        "#odd number of palindrome\n",
        "s=\"ababab\"\n",
        "m=0\n",
        "for i in range(len(s)):\n",
        "  l=i\n",
        "  r=i\n",
        "  while(l>=0 and r<len(s) and s[l]==s[r]):\n",
        "    m=max(m,(r-l)+1)\n",
        "    l-=1\n",
        "    r+=1\n",
        "print(m)"
      ]
    },
    {
      "cell_type": "code",
      "source": [
        "#even\n",
        "s = \"ababba\"\n",
        "m = 0\n",
        "for i in range(len(s)):\n",
        "    l = i\n",
        "    r = i + 1\n",
        "    while l >= 0 and r < len(s) and s[l] == s[r]:\n",
        "        m = max(m, r - l + 1)\n",
        "        l -= 1\n",
        "        r += 1\n",
        "print(m)"
      ],
      "metadata": {
        "colab": {
          "base_uri": "https://localhost:8080/"
        },
        "id": "cDagNCtXhmoX",
        "outputId": "434c3872-8e46-4a17-c794-ace80b95d484"
      },
      "execution_count": null,
      "outputs": [
        {
          "output_type": "stream",
          "name": "stdout",
          "text": [
            "4\n"
          ]
        }
      ]
    },
    {
      "cell_type": "code",
      "source": [
        "#length of the palindrome\n",
        "s=\"ababab\"\n",
        "m=0\n",
        "for i in range(len(s)):\n",
        "  l=i\n",
        "  r=i\n",
        "  while(l>=0 and r<len(s) and s[l]==s[r]):\n",
        "    m=max(m,(r-l)+1)\n",
        "    l-=1\n",
        "    r+=1\n",
        "  l=i\n",
        "  r=i+1\n",
        "  while l>=0 and r<len(s) and s[l]==s[r]:\n",
        "    m=max(m,r-l+1)\n",
        "    l-=1\n",
        "    r+=1\n",
        "print(m)"
      ],
      "metadata": {
        "colab": {
          "base_uri": "https://localhost:8080/"
        },
        "id": "pamgpbMKjdAi",
        "outputId": "396f99b6-fd6c-4285-8b47-4020a5e527a1"
      },
      "execution_count": null,
      "outputs": [
        {
          "output_type": "stream",
          "name": "stdout",
          "text": [
            "5\n"
          ]
        }
      ]
    },
    {
      "cell_type": "code",
      "source": [
        "#palindromic string\n",
        "s = \"ababab\"\n",
        "m = 0\n",
        "start = 0\n",
        "end = 0\n",
        "\n",
        "for i in range(len(s)):\n",
        "    l = i\n",
        "    r = i\n",
        "    while l >= 0 and r < len(s) and s[l] == s[r]:\n",
        "        if (r - l + 1) > m:\n",
        "            m = r - l + 1\n",
        "            start = l\n",
        "            end = r\n",
        "        l -= 1\n",
        "        r += 1\n",
        "    l = i\n",
        "    r = i + 1\n",
        "    while l >= 0 and r < len(s) and s[l] == s[r]:\n",
        "        if (r - l + 1) > m:\n",
        "            m = r - l + 1\n",
        "            start = l\n",
        "            end = r\n",
        "        l -= 1\n",
        "        r += 1\n",
        "\n",
        "print(s[start:end+1])\n",
        "print(m)"
      ],
      "metadata": {
        "colab": {
          "base_uri": "https://localhost:8080/"
        },
        "id": "BK01_lKZnU2O",
        "outputId": "1e65f57e-197d-4ac1-b586-5df815444f75"
      },
      "execution_count": null,
      "outputs": [
        {
          "output_type": "stream",
          "name": "stdout",
          "text": [
            "ababa\n",
            "5\n"
          ]
        }
      ]
    },
    {
      "cell_type": "code",
      "source": [
        "#length of palindromic sub string\n",
        "s = \"ababab\"\n",
        "count = 0\n",
        "for i in range(len(s)):\n",
        "    l = i\n",
        "    r = i\n",
        "    while l >= 0 and r < len(s) and s[l] == s[r]:\n",
        "        count += 1\n",
        "        l -= 1\n",
        "        r += 1\n",
        "    l = i\n",
        "    r = i + 1\n",
        "    while l >= 0 and r < len(s) and s[l] == s[r]:\n",
        "        count += 1\n",
        "        l -= 1\n",
        "        r += 1\n",
        "print(count)"
      ],
      "metadata": {
        "colab": {
          "base_uri": "https://localhost:8080/"
        },
        "id": "bX7aD5lao4F4",
        "outputId": "a1588593-ac93-4416-c0a6-40a2ab5829db"
      },
      "execution_count": null,
      "outputs": [
        {
          "output_type": "stream",
          "name": "stdout",
          "text": [
            "12\n"
          ]
        }
      ]
    },
    {
      "cell_type": "code",
      "source": [
        "arr=[900,945,955,1100,1500,1800]\n",
        "dep=[920,1200,1130,1150,1900,2000]\n",
        "arr.sort()\n",
        "dep.sort()\n",
        "i,j,doct,m=1,0,1,0\n",
        "while i<len(arr) and j<len(dep):\n",
        "  if arr[i]<=dep[j]:\n",
        "    doct+=1\n",
        "    i+=1\n",
        "  else:\n",
        "    doct-=1\n",
        "    j+=1\n",
        "  m=max(m,doct)\n",
        "print(m)"
      ],
      "metadata": {
        "colab": {
          "base_uri": "https://localhost:8080/"
        },
        "id": "KnehAc0ar-T9",
        "outputId": "0a0ea8d5-5412-41b3-fa4c-f105d73e5be5"
      },
      "execution_count": null,
      "outputs": [
        {
          "output_type": "stream",
          "name": "stdout",
          "text": [
            "3\n"
          ]
        }
      ]
    }
  ]
}