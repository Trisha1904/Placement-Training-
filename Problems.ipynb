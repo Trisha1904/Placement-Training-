{
  "nbformat": 4,
  "nbformat_minor": 0,
  "metadata": {
    "colab": {
      "provenance": [],
      "authorship_tag": "ABX9TyN8YI8J7c/w7OMh37D/NKOH",
      "include_colab_link": true
    },
    "kernelspec": {
      "name": "python3",
      "display_name": "Python 3"
    },
    "language_info": {
      "name": "python"
    }
  },
  "cells": [
    {
      "cell_type": "markdown",
      "metadata": {
        "id": "view-in-github",
        "colab_type": "text"
      },
      "source": [
        "<a href=\"https://colab.research.google.com/github/Trisha1904/Placement-Training-/blob/main/Problems.ipynb\" target=\"_parent\"><img src=\"https://colab.research.google.com/assets/colab-badge.svg\" alt=\"Open In Colab\"/></a>"
      ]
    },
    {
      "cell_type": "code",
      "execution_count": 5,
      "metadata": {
        "colab": {
          "base_uri": "https://localhost:8080/"
        },
        "id": "JzEMmPvuI9st",
        "outputId": "8e5435fa-5d86-45e2-f98a-d77947c451a8"
      },
      "outputs": [
        {
          "output_type": "stream",
          "name": "stdout",
          "text": [
            "True\n"
          ]
        }
      ],
      "source": [
        "def lemonadeChange(bills):\n",
        "        five = ten = 0\n",
        "        for bill in bills:\n",
        "            if bill == 5:\n",
        "                five += 1\n",
        "            elif bill == 10:\n",
        "                if five == 0:\n",
        "                    return False\n",
        "                five -= 1\n",
        "                ten += 1\n",
        "            else:\n",
        "                if ten > 0 and five > 0:\n",
        "                    ten -= 1\n",
        "                    five -= 1\n",
        "                elif five >= 3:\n",
        "                    five -= 3\n",
        "                else:\n",
        "                    return False\n",
        "        return True\n",
        "print(lemonadeChange([5,5,5,10,10,20]))"
      ]
    },
    {
      "cell_type": "code",
      "source": [
        "def lemonadeChange(bills):\n",
        "    five = ten = 0\n",
        "    profit = 0\n",
        "    for bill in bills:\n",
        "        profit += 5\n",
        "        if bill == 5:\n",
        "            five += 1\n",
        "        elif bill == 10:\n",
        "            if five == 0:\n",
        "                return False\n",
        "            five -= 1\n",
        "            ten += 1\n",
        "        else:\n",
        "            if ten > 0 and five > 0:\n",
        "                ten -= 1\n",
        "                five -= 1\n",
        "            elif five >= 3:\n",
        "                five -= 3\n",
        "            else:\n",
        "                return False\n",
        "    print(f\"Total profit: ${profit}\")\n",
        "    return True\n",
        "print(lemonadeChange([5, 5, 5, 10, 10, 20]))"
      ],
      "metadata": {
        "colab": {
          "base_uri": "https://localhost:8080/"
        },
        "id": "YwTi4nVOPxty",
        "outputId": "68270899-32dc-4fe4-fd0d-a630d9f07614"
      },
      "execution_count": 10,
      "outputs": [
        {
          "output_type": "stream",
          "name": "stdout",
          "text": [
            "Total profit: $30\n",
            "True\n"
          ]
        }
      ]
    },
    {
      "cell_type": "code",
      "source": [
        "def canJump(nums):\n",
        "  max_jump= 0\n",
        "  for i in range(len(nums)):\n",
        "    if i > max_jump:\n",
        "      return False\n",
        "    max_jump = max(max_jump, i + nums[i])\n",
        "  return True\n",
        "print(canJump([2,3,1,1,4]))"
      ],
      "metadata": {
        "colab": {
          "base_uri": "https://localhost:8080/"
        },
        "id": "u2A7lUneTPBK",
        "outputId": "9d694f55-a94f-4c74-c0f2-ec902505ccdf"
      },
      "execution_count": 13,
      "outputs": [
        {
          "output_type": "stream",
          "name": "stdout",
          "text": [
            "True\n"
          ]
        }
      ]
    },
    {
      "cell_type": "code",
      "source": [
        "def find132pattern(nums):\n",
        "        stack = []\n",
        "        third = float('-inf')\n",
        "        for num in reversed(nums):\n",
        "            if num < third:\n",
        "                return True\n",
        "            while stack and num > stack[-1]:\n",
        "                third = stack.pop()\n",
        "            stack.append(num)\n",
        "        return False\n",
        "print(find132pattern([3,1,4,2]))"
      ],
      "metadata": {
        "colab": {
          "base_uri": "https://localhost:8080/"
        },
        "id": "TYdlPeO1aY6d",
        "outputId": "9ba6ee5c-d4df-48dd-cd63-0fc761252e72"
      },
      "execution_count": 4,
      "outputs": [
        {
          "output_type": "stream",
          "name": "stdout",
          "text": [
            "True\n"
          ]
        }
      ]
    },
    {
      "cell_type": "code",
      "source": [
        "s=\"aaabbc\"\n",
        "res=[]\n",
        "c=1\n",
        "for i in range(len(s)):\n",
        "    if i>0 and s[i]==s[i-1]:\n",
        "        c+=1\n",
        "    else:\n",
        "        c=1\n",
        "    if c<=2:\n",
        "        res.append(s[i])\n",
        "print(\"\".join(res))"
      ],
      "metadata": {
        "colab": {
          "base_uri": "https://localhost:8080/"
        },
        "id": "IAVB08UdMgWQ",
        "outputId": "4bd1e614-b14d-47d7-fa62-b48c003d6507"
      },
      "execution_count": 5,
      "outputs": [
        {
          "output_type": "stream",
          "name": "stdout",
          "text": [
            "aabbc\n"
          ]
        }
      ]
    },
    {
      "cell_type": "code",
      "source": [
        "s=\"aaabbcc\"\n",
        "res=[]\n",
        "c=1\n",
        "for i in range(len(s)):\n",
        "    if i>0 and s[i]==s[i-1]:\n",
        "        c+=1\n",
        "    else:\n",
        "        c=1\n",
        "    if c>2:\n",
        "        res.append(s[i])\n",
        "print(\"\".join(res))"
      ],
      "metadata": {
        "colab": {
          "base_uri": "https://localhost:8080/"
        },
        "id": "saV9U2SvNK4T",
        "outputId": "e9213050-b892-4802-e0f2-8b38e5c61b2c"
      },
      "execution_count": 9,
      "outputs": [
        {
          "output_type": "stream",
          "name": "stdout",
          "text": [
            "a\n"
          ]
        }
      ]
    },
    {
      "cell_type": "code",
      "source": [
        "a = \"aaaabbbc\"\n",
        "count = {}\n",
        "for ch in a:\n",
        "    if ch in count:\n",
        "        count[ch] += 1\n",
        "    else:\n",
        "        count[ch] = 1\n",
        "for key in count:\n",
        "    print(f\"{key} = {count[key]}\")"
      ],
      "metadata": {
        "colab": {
          "base_uri": "https://localhost:8080/"
        },
        "id": "bg8ucKNfRHk-",
        "outputId": "9eb9ba37-6675-4fa0-dc78-7d57bbe3d6ed"
      },
      "execution_count": 11,
      "outputs": [
        {
          "output_type": "stream",
          "name": "stdout",
          "text": [
            "a = 4\n",
            "b = 3\n",
            "c = 1\n"
          ]
        }
      ]
    },
    {
      "cell_type": "code",
      "source": [],
      "metadata": {
        "id": "fQBt2oGCVUed"
      },
      "execution_count": null,
      "outputs": []
    }
  ]
}