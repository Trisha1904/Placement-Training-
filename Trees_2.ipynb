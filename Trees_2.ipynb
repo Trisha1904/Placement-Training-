{
  "nbformat": 4,
  "nbformat_minor": 0,
  "metadata": {
    "colab": {
      "provenance": [],
      "authorship_tag": "ABX9TyP5+Dc6HOAfKF4a6yfkqxnF",
      "include_colab_link": true
    },
    "kernelspec": {
      "name": "python3",
      "display_name": "Python 3"
    },
    "language_info": {
      "name": "python"
    }
  },
  "cells": [
    {
      "cell_type": "markdown",
      "metadata": {
        "id": "view-in-github",
        "colab_type": "text"
      },
      "source": [
        "<a href=\"https://colab.research.google.com/github/Trisha1904/Placement-Training-/blob/main/Trees_2.ipynb\" target=\"_parent\"><img src=\"https://colab.research.google.com/assets/colab-badge.svg\" alt=\"Open In Colab\"/></a>"
      ]
    },
    {
      "cell_type": "code",
      "source": [
        "class Node:\n",
        "  def __init__(self,data):\n",
        "    self.data=data\n",
        "    self.left=None\n",
        "    self.right=None\n",
        "  def search(root,key):\n",
        "    if root is None:\n",
        "      return False\n",
        "    if root.data==key:\n",
        "      return True\n",
        "    elif root.data>key:\n",
        "      return Node.search(root.left,key)\n",
        "    else:\n",
        "      return Node.search(root.right,key)\n",
        "root=Node(5)\n",
        "root.left=Node(2)\n",
        "root.right=Node(7)\n",
        "root.left.left=Node(1)\n",
        "root.left.right=Node(3)\n",
        "root.right.left=Node(6)\n",
        "root.right.right=Node(8)\n",
        "print(Node.search(root,6))"
      ],
      "metadata": {
        "colab": {
          "base_uri": "https://localhost:8080/"
        },
        "id": "78QUFIwPTzjb",
        "outputId": "3b88566f-5fe1-48c9-eec3-4954a6a088b5"
      },
      "execution_count": 38,
      "outputs": [
        {
          "output_type": "stream",
          "name": "stdout",
          "text": [
            "True\n"
          ]
        }
      ]
    },
    {
      "cell_type": "code",
      "source": [
        "class Node:\n",
        "  def __init__(self,data):\n",
        "    self.data=data\n",
        "    self.left=None\n",
        "    self.right=None\n",
        "  def count_paths(self, Node):\n",
        "    if Node is None:\n",
        "      return 0\n",
        "    if Node.left is None and Node.right is None:\n",
        "      return 1\n",
        "    return self.count_paths(Node.left) + self.count_paths(Node.right)\n",
        "root = Node(5)\n",
        "root.left = Node(2)\n",
        "root.right = Node(7)\n",
        "root.left.left = Node(1)\n",
        "root.left.right = Node(3)\n",
        "root.right.left = Node(6)\n",
        "root.right.right = Node(8)\n",
        "print(root.count_paths(root))"
      ],
      "metadata": {
        "colab": {
          "base_uri": "https://localhost:8080/"
        },
        "id": "uGN6m76Zaqla",
        "outputId": "768f374f-a23f-4371-ce2f-3dc6635b0908"
      },
      "execution_count": 44,
      "outputs": [
        {
          "output_type": "stream",
          "name": "stdout",
          "text": [
            "4\n"
          ]
        }
      ]
    },
    {
      "cell_type": "code",
      "source": [
        "class Node:\n",
        "  def __init__(self,data):\n",
        "    self.data=data\n",
        "    self.left=None\n",
        "    self.right=None\n",
        "  def print_path(root,path=[]):\n",
        "    if root is None:\n",
        "      return\n",
        "    path.append(str(root.data))\n",
        "    if root.left is None and root.right is None:\n",
        "      print(\" -> \".join(path))\n",
        "    else:\n",
        "      Node.print_path(root.left,path)\n",
        "      Node.print_path(root.right,path)\n",
        "    path.pop()\n",
        "root = Node(5)\n",
        "root.left = Node(2)\n",
        "root.right = Node(7)\n",
        "root.left.left = Node(1)\n",
        "root.left.right = Node(3)\n",
        "root.right.left = Node(6)\n",
        "root.right.right = Node(8)\n",
        "Node.print_path(root)"
      ],
      "metadata": {
        "colab": {
          "base_uri": "https://localhost:8080/"
        },
        "id": "sJ4aqG4vdJJZ",
        "outputId": "6ddd4f64-9cec-4027-8283-a4e37413d98b"
      },
      "execution_count": 60,
      "outputs": [
        {
          "output_type": "stream",
          "name": "stdout",
          "text": [
            "5 -> 2 -> 1\n",
            "5 -> 2 -> 3\n",
            "5 -> 7 -> 6\n",
            "5 -> 7 -> 8\n"
          ]
        }
      ]
    },
    {
      "cell_type": "code",
      "source": [
        "class Node:\n",
        "  def __init__(self,data):\n",
        "    self.data=data\n",
        "    self.left=None\n",
        "    self.right=None\n",
        "  def highest_value(root):\n",
        "    if root is None:\n",
        "      return -1\n",
        "    if root.left is None and root.right is None:\n",
        "      return root.data\n",
        "    return max(root.data,Node.highest_value(root.left),Node.highest_value(root.right))\n",
        "Node.highest_value(root)"
      ],
      "metadata": {
        "colab": {
          "base_uri": "https://localhost:8080/"
        },
        "id": "Vqj8QtwmjsTe",
        "outputId": "c6920755-1597-4cd3-f69e-4623f0bb302e"
      },
      "execution_count": 62,
      "outputs": [
        {
          "output_type": "execute_result",
          "data": {
            "text/plain": [
              "8"
            ]
          },
          "metadata": {},
          "execution_count": 62
        }
      ]
    },
    {
      "cell_type": "code",
      "source": [],
      "metadata": {
        "id": "LcEJFa1So5BN"
      },
      "execution_count": null,
      "outputs": []
    }
  ]
}