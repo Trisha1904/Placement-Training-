{
  "nbformat": 4,
  "nbformat_minor": 0,
  "metadata": {
    "colab": {
      "provenance": [],
      "authorship_tag": "ABX9TyPyj8RZ7w/jM0kX0y8Fy5ZS",
      "include_colab_link": true
    },
    "kernelspec": {
      "name": "python3",
      "display_name": "Python 3"
    },
    "language_info": {
      "name": "python"
    }
  },
  "cells": [
    {
      "cell_type": "markdown",
      "metadata": {
        "id": "view-in-github",
        "colab_type": "text"
      },
      "source": [
        "<a href=\"https://colab.research.google.com/github/Trisha1904/Placement-Training-/blob/main/AdvancedSorting.ipynb\" target=\"_parent\"><img src=\"https://colab.research.google.com/assets/colab-badge.svg\" alt=\"Open In Colab\"/></a>"
      ]
    },
    {
      "cell_type": "code",
      "source": [
        "l1=[1,4,5,7,9,10]\n",
        "l2=[2,3,6,8]\n",
        "res=[]\n",
        "i,j=0,0\n",
        "while i<len(l1) and j<len(l2):\n",
        "  if l1[i]<l2[j]:\n",
        "    res.append(l1[i])\n",
        "    i+=1\n",
        "  else:\n",
        "    res.append(l2[j])\n",
        "    j+=1\n",
        "print(res)"
      ],
      "metadata": {
        "colab": {
          "base_uri": "https://localhost:8080/"
        },
        "id": "4CvtXZ-Tqucw",
        "outputId": "f64c0bc9-e86c-44f5-e368-39370613f02b"
      },
      "execution_count": null,
      "outputs": [
        {
          "output_type": "stream",
          "name": "stdout",
          "text": [
            "[1, 2, 3, 4, 5, 6, 7, 8]\n"
          ]
        }
      ]
    },
    {
      "cell_type": "code",
      "source": [
        "l1=[1,4,5,7,9,10]\n",
        "l2=[2,3,6,8]\n",
        "res=[]\n",
        "i,j=0,0\n",
        "while i<len(l1) and j<len(l2):\n",
        "  if l1[i]<l2[j]:\n",
        "    res.append(l1[i])\n",
        "    i+=1\n",
        "  else:\n",
        "    res.append(l2[j])\n",
        "    j+=1\n",
        "while i<len(l1):\n",
        "  res.append(l1[i])\n",
        "  i+=1\n",
        "while j<len(l2):\n",
        "  res.append(l2[j])\n",
        "  j+=1\n",
        "print(res)"
      ],
      "metadata": {
        "colab": {
          "base_uri": "https://localhost:8080/"
        },
        "id": "4DQ5UcEh2CNu",
        "outputId": "dd0846e0-f138-4a18-d863-dbf477f7eedd"
      },
      "execution_count": null,
      "outputs": [
        {
          "output_type": "stream",
          "name": "stdout",
          "text": [
            "[1, 2, 3, 4, 5, 6, 7, 8, 9, 10]\n"
          ]
        }
      ]
    },
    {
      "cell_type": "code",
      "source": [
        "def div(arr):\n",
        "    if len(arr) <= 1:\n",
        "        return arr\n",
        "    mid = len(arr) // 2\n",
        "    left = div(arr[:mid])\n",
        "    right = div(arr[mid:])\n",
        "    return merge(left, right)\n",
        "\n",
        "def merge(left, right):\n",
        "    result = []\n",
        "    i, j = 0, 0\n",
        "    while i < len(left) and j < len(right):\n",
        "        if left[i] < right[j]:\n",
        "            result.append(left[i])\n",
        "            i += 1\n",
        "        else:\n",
        "            result.append(right[j])\n",
        "            j += 1\n",
        "    result.extend(left[i:])\n",
        "    result.extend(right[j:])\n",
        "    return result\n",
        "arr = [5, 3, 8, 4, 2, 7, 1, 6]\n",
        "sorted_arr = div(arr)\n",
        "print(sorted_arr)"
      ],
      "metadata": {
        "colab": {
          "base_uri": "https://localhost:8080/"
        },
        "id": "tyeHglxxBZv6",
        "outputId": "23e02389-3768-42d5-c04d-40bd4d42e161"
      },
      "execution_count": null,
      "outputs": [
        {
          "output_type": "stream",
          "name": "stdout",
          "text": [
            "[1, 2, 3, 4, 5, 6, 7, 8]\n"
          ]
        }
      ]
    },
    {
      "cell_type": "code",
      "source": [
        "a=[5,3,6,2,2,1,1,1,8,7,3,1,12]\n",
        "k=4\n",
        "res=[0]*(max(a)+1)\n",
        "for i in a:\n",
        "  res[i]=1\n",
        "for i in range(len(res)-1,-1,-1):\n",
        "    if res[i]==1:\n",
        "        k-=1\n",
        "    if k==0:\n",
        "       print(i)\n",
        "       break"
      ],
      "metadata": {
        "colab": {
          "base_uri": "https://localhost:8080/"
        },
        "id": "Aa2xC31wLchd",
        "outputId": "fa8fde85-847b-46f6-9de8-b0afc1dc26b4"
      },
      "execution_count": null,
      "outputs": [
        {
          "output_type": "stream",
          "name": "stdout",
          "text": [
            "6\n"
          ]
        }
      ]
    },
    {
      "cell_type": "code",
      "source": [
        "a=[5,3,3,5,2,2,2,2,1,1,4,4,3,1]\n",
        "dict={}\n",
        "for i in a:\n",
        "  if i not in dict:\n",
        "    dict[i]=1\n",
        "  else:\n",
        "    dict[i]+=1\n",
        "m=max(dict.values())\n",
        "b=[[] for i in range(m+1)]\n",
        "for i in dict:\n",
        "  b[dict[i]].append(i)\n",
        "res=[]\n",
        "print(b)\n",
        "for i in range(1,len(b)):\n",
        "    for j in b[i]:\n",
        "      res.extend([j]*i)\n",
        "print(res)"
      ],
      "metadata": {
        "colab": {
          "base_uri": "https://localhost:8080/"
        },
        "id": "ASjzJ7s8Ts_A",
        "outputId": "7f45c945-c4db-4404-ff94-771be8de42d0"
      },
      "execution_count": null,
      "outputs": [
        {
          "output_type": "stream",
          "name": "stdout",
          "text": [
            "[[], [], [5, 4], [3, 1], [2]]\n",
            "[5, 5, 4, 4, 3, 3, 3, 1, 1, 1, 2, 2, 2, 2]\n"
          ]
        }
      ]
    },
    {
      "cell_type": "code",
      "source": [
        "a=[5,2,2,2,1]\n",
        "c=-1\n",
        "v=0\n",
        "for i in a:\n",
        "  if v==0:\n",
        "    c=i\n",
        "    v=1\n",
        "  elif i==c:\n",
        "    v+=1\n",
        "  else:\n",
        "    v-=1\n",
        "print(c)\n"
      ],
      "metadata": {
        "colab": {
          "base_uri": "https://localhost:8080/"
        },
        "id": "aaixyWqHX_jm",
        "outputId": "f0e3ee2b-68c8-446f-a34a-8695869927a3"
      },
      "execution_count": null,
      "outputs": [
        {
          "output_type": "stream",
          "name": "stdout",
          "text": [
            "2\n"
          ]
        }
      ]
    }
  ]
}