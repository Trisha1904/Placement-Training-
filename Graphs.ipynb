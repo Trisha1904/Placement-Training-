{
  "nbformat": 4,
  "nbformat_minor": 0,
  "metadata": {
    "colab": {
      "provenance": [],
      "authorship_tag": "ABX9TyMYFJCArdv9qPle1w7B8lcC",
      "include_colab_link": true
    },
    "kernelspec": {
      "name": "python3",
      "display_name": "Python 3"
    },
    "language_info": {
      "name": "python"
    }
  },
  "cells": [
    {
      "cell_type": "markdown",
      "metadata": {
        "id": "view-in-github",
        "colab_type": "text"
      },
      "source": [
        "<a href=\"https://colab.research.google.com/github/Trisha1904/Placement-Training-/blob/main/Graphs.ipynb\" target=\"_parent\"><img src=\"https://colab.research.google.com/assets/colab-badge.svg\" alt=\"Open In Colab\"/></a>"
      ]
    },
    {
      "cell_type": "code",
      "execution_count": 1,
      "metadata": {
        "colab": {
          "base_uri": "https://localhost:8080/"
        },
        "id": "5d7zVlJZzVTb",
        "outputId": "398a0444-cca3-4a36-cd7f-86fd14533e4c"
      },
      "outputs": [
        {
          "output_type": "stream",
          "name": "stdout",
          "text": [
            "A B D E F C "
          ]
        }
      ],
      "source": [
        "def dfs(graph,n,visited=set()):\n",
        "  if n not in visited:\n",
        "    print(n,end=\" \")\n",
        "    visited.add(n)\n",
        "    for i in graph[n]:\n",
        "      dfs(graph,i,visited)\n",
        "graph={\n",
        "    'A':['B', 'C'],\n",
        "    'B':['A','D', 'E'],\n",
        "    'C':['A','E'],\n",
        "    'D':['B'],\n",
        "    'E':['B','F'],\n",
        "    'F':['C','E']\n",
        "}\n",
        "dfs(graph,'A')"
      ]
    },
    {
      "cell_type": "code",
      "source": [
        "def BFS(graph,start):\n",
        "    visited=set()\n",
        "    q=[start]\n",
        "    while q:\n",
        "      n=q.pop(0)\n",
        "      if n not in visited:\n",
        "        print(n,end=\" \")\n",
        "        visited.add(n)\n",
        "        q.extend(graph[n])\n",
        "graph={\n",
        "    'A':['B','C'],\n",
        "    'B':['A','D','E'],\n",
        "    'C':['A','E'],\n",
        "    'D':['B'],\n",
        "    'E':['B','F'],\n",
        "    'F':['C','E']\n",
        "}\n",
        "BFS(graph,'A')"
      ],
      "metadata": {
        "colab": {
          "base_uri": "https://localhost:8080/"
        },
        "id": "iGPaxQ7d4TZS",
        "outputId": "6efd4393-e900-49cf-c0ab-07c4b9a6de9f"
      },
      "execution_count": 2,
      "outputs": [
        {
          "output_type": "stream",
          "name": "stdout",
          "text": [
            "A B C D E F "
          ]
        }
      ]
    },
    {
      "cell_type": "code",
      "source": [
        "from collections import defaultdict\n",
        "edges=[(0,1),(0,2),(1,3),(2,4),(3,5),(4,5)]\n",
        "graph=defaultdict(list)\n",
        "for u,v in edges:\n",
        "  graph[u].append(v)\n",
        "  graph[v].append(u)\n",
        "def path(graph,start,end):\n",
        "  visited=set()\n",
        "  def dfs(val):\n",
        "    if val==end:\n",
        "      return True\n",
        "    visited.add(val)\n",
        "    for n in graph[val]:\n",
        "      if n not in visited:\n",
        "        if dfs(n):\n",
        "          return True\n",
        "    return False\n",
        "  return dfs(start)\n",
        "start,end=0,5\n",
        "print(path(graph,start,end))"
      ],
      "metadata": {
        "colab": {
          "base_uri": "https://localhost:8080/"
        },
        "id": "ELlpPgB0SJpU",
        "outputId": "a5ad806a-8834-4742-c763-215577325740"
      },
      "execution_count": 9,
      "outputs": [
        {
          "output_type": "stream",
          "name": "stdout",
          "text": [
            "True\n"
          ]
        }
      ]
    },
    {
      "cell_type": "code",
      "source": [
        "from collections import defaultdict\n",
        "edges=[(0,1),(0,2),(1,3),(2,4),(3,5),(4,5)]\n",
        "graph=defaultdict(list)\n",
        "for u,v in edges:\n",
        "  graph[u].append(v)\n",
        "def path_print(start,end,path=[]):\n",
        "  path.append(start)\n",
        "  if start==end:\n",
        "    print(path)\n",
        "  else:\n",
        "    for n in graph[start]:\n",
        "      if n not in path:\n",
        "        path_print(n,end,path)\n",
        "  path.pop()\n",
        "start,end=0,5\n",
        "path_print(start,end)"
      ],
      "metadata": {
        "colab": {
          "base_uri": "https://localhost:8080/"
        },
        "id": "zwt6AHlsdloR",
        "outputId": "90e4fc5b-342b-4325-a25d-456656db243e"
      },
      "execution_count": 13,
      "outputs": [
        {
          "output_type": "stream",
          "name": "stdout",
          "text": [
            "[0, 1, 3, 5]\n",
            "[0, 2, 4, 5]\n"
          ]
        }
      ]
    }
  ]
}