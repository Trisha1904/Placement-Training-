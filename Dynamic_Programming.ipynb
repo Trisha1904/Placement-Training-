{
  "nbformat": 4,
  "nbformat_minor": 0,
  "metadata": {
    "colab": {
      "provenance": [],
      "authorship_tag": "ABX9TyO9iGNcdNsgVNmWOWuwG8s8",
      "include_colab_link": true
    },
    "kernelspec": {
      "name": "python3",
      "display_name": "Python 3"
    },
    "language_info": {
      "name": "python"
    }
  },
  "cells": [
    {
      "cell_type": "markdown",
      "metadata": {
        "id": "view-in-github",
        "colab_type": "text"
      },
      "source": [
        "<a href=\"https://colab.research.google.com/github/Trisha1904/Placement-Training-/blob/main/Dynamic_Programming.ipynb\" target=\"_parent\"><img src=\"https://colab.research.google.com/assets/colab-badge.svg\" alt=\"Open In Colab\"/></a>"
      ]
    },
    {
      "cell_type": "code",
      "execution_count": 5,
      "metadata": {
        "colab": {
          "base_uri": "https://localhost:8080/"
        },
        "id": "LoK88_bUw2iJ",
        "outputId": "fd927b7b-6e41-4b1f-d6a4-2180a72a22d0"
      },
      "outputs": [
        {
          "output_type": "stream",
          "name": "stdout",
          "text": [
            "5\n",
            "5\n"
          ]
        }
      ],
      "source": [
        "def fibonacci(n):\n",
        "  if n==0 or n==1:\n",
        "    return n\n",
        "  return fibonacci(n-1)+fibonacci(n-2)\n",
        "n=int(input())\n",
        "print(fibonacci(n))"
      ]
    },
    {
      "cell_type": "code",
      "source": [
        "n=6\n",
        "memo=[-1]*(n+1)\n",
        "def fib(n):\n",
        "  if n<=1:   #if n==0 or n==1\n",
        "    return n\n",
        "  if memo[n]!=-1:\n",
        "    return memo[n]\n",
        "  memo[n]=fib(n-1)+fib(n-2)\n",
        "  return memo[n]\n",
        "print(fib(n))"
      ],
      "metadata": {
        "colab": {
          "base_uri": "https://localhost:8080/"
        },
        "id": "_S5jNaspzwhG",
        "outputId": "657ffeb4-c739-493b-e0ef-fa8be4d7ea9a"
      },
      "execution_count": 10,
      "outputs": [
        {
          "output_type": "stream",
          "name": "stdout",
          "text": [
            "8\n"
          ]
        }
      ]
    },
    {
      "cell_type": "code",
      "source": [
        "#tabulation\n",
        "n=6\n",
        "dp=[-1]*(n+1)\n",
        "dp[1]=1\n",
        "dp[0]=0\n",
        "for i in range(2,n+1):\n",
        "  dp[i]=dp[i-1]+dp[i-2]\n",
        "print(dp[n])"
      ],
      "metadata": {
        "colab": {
          "base_uri": "https://localhost:8080/"
        },
        "id": "sBeDjdNw9BsZ",
        "outputId": "5d8539e3-aa1f-40f3-ff54-467a4eac48ed"
      },
      "execution_count": 15,
      "outputs": [
        {
          "output_type": "stream",
          "name": "stdout",
          "text": [
            "8\n"
          ]
        }
      ]
    },
    {
      "cell_type": "code",
      "source": [
        "n=6\n",
        "a,b=0,1\n",
        "for _ in range(2,n+1):\n",
        "  fib=a+b\n",
        "  a=b\n",
        "  b=fib\n",
        "print(fib)"
      ],
      "metadata": {
        "colab": {
          "base_uri": "https://localhost:8080/"
        },
        "id": "6RnJUnsB_cUN",
        "outputId": "bfb3efef-198c-4ef2-e7a8-5d382d0792fb"
      },
      "execution_count": 16,
      "outputs": [
        {
          "output_type": "stream",
          "name": "stdout",
          "text": [
            "8\n"
          ]
        }
      ]
    },
    {
      "cell_type": "code",
      "source": [
        "rock=[30,10,60,10,60,50]\n",
        "def frog(ind):\n",
        "  if ind==0:\n",
        "    return 0\n",
        "  j1=frog(ind-1)+abs(rock[ind]-rock[ind-1])\n",
        "  if ind>1:\n",
        "    j2=frog(ind-2)+abs(rock[ind]-rock[ind-2])\n",
        "    return min(j1,j2)\n",
        "  else:\n",
        "    return j1\n",
        "print(frog(len(rock)-1))"
      ],
      "metadata": {
        "colab": {
          "base_uri": "https://localhost:8080/"
        },
        "id": "kaIp3CGfAy9K",
        "outputId": "99c871da-b3c7-437c-fc9f-715831b98b2f"
      },
      "execution_count": 18,
      "outputs": [
        {
          "output_type": "stream",
          "name": "stdout",
          "text": [
            "40\n"
          ]
        }
      ]
    },
    {
      "cell_type": "code",
      "source": [
        "#tabulation\n",
        "rock = [30, 10, 60, 10, 60, 50]\n",
        "def frog(n):\n",
        "    dp = [0] * n\n",
        "    dp[0] = 0\n",
        "    for i in range(1, n):\n",
        "        j1 = dp[i-1] + abs(rock[i] - rock[i-1])\n",
        "        j2 = float('inf')\n",
        "        if i > 1:\n",
        "            j2 = dp[i-2] + abs(rock[i] - rock[i-2])\n",
        "        dp[i] = min(j1, j2)\n",
        "    return dp[n-1]\n",
        "print(frog(len(rock)))"
      ],
      "metadata": {
        "colab": {
          "base_uri": "https://localhost:8080/"
        },
        "id": "jhvJ-7q4uF_z",
        "outputId": "11fe7f6d-ab6a-4891-aa14-f79cad60571a"
      },
      "execution_count": 3,
      "outputs": [
        {
          "output_type": "stream",
          "name": "stdout",
          "text": [
            "40\n"
          ]
        }
      ]
    },
    {
      "cell_type": "code",
      "source": [
        "#memoization\n",
        "dp=[-1]*len(rock)\n",
        "def frog(ind):\n",
        "  if ind==0:\n",
        "    return 0\n",
        "  if dp[ind]!=-1:\n",
        "    return dp[ind]\n",
        "  j1=frog(ind-1)+abs(rock[ind]-rock[ind-1])\n",
        "  if ind>1:\n",
        "    j2=frog(ind-2)+abs(rock[ind]-rock[ind-2])\n",
        "    dp[ind]=min(j1,j2)\n",
        "    return dp[ind]\n",
        "  else:\n",
        "    dp[ind]=j1\n",
        "    return dp[ind]\n",
        "print(frog(len(rock)-1))"
      ],
      "metadata": {
        "colab": {
          "base_uri": "https://localhost:8080/"
        },
        "id": "CBKo2RNxw6cb",
        "outputId": "a38b9869-ad1f-4524-98f4-0899df867458"
      },
      "execution_count": 2,
      "outputs": [
        {
          "output_type": "stream",
          "name": "stdout",
          "text": [
            "40\n"
          ]
        }
      ]
    },
    {
      "cell_type": "code",
      "source": [
        "arr=[1,2,5,10]\n",
        "target=12\n",
        "n=len(arr)\n",
        "dp=[[False]*(target+1) for _ in range(n+1)]\n",
        "for i in range(n+1):\n",
        "  dp[i][0]=True\n",
        "for i in range(1,n+1):\n",
        "  for j in range(1,target+1):\n",
        "    if arr[i-1]>j:\n",
        "      dp[i][j]=dp[i-1][j]\n",
        "    else:\n",
        "      dp[i][j]=dp[i-1][j] or dp[i-1][j-arr[i-1]]\n",
        "if dp[n][target]:\n",
        "  print(\"Yes. can make an amount\")\n",
        "else:\n",
        "  print(\"No. can't make an amount\")"
      ],
      "metadata": {
        "colab": {
          "base_uri": "https://localhost:8080/"
        },
        "id": "aYZ40zsN2QUc",
        "outputId": "806518c2-08b1-4d71-98a4-579b650de452"
      },
      "execution_count": 5,
      "outputs": [
        {
          "output_type": "stream",
          "name": "stdout",
          "text": [
            "Yes. can make an amount\n"
          ]
        }
      ]
    }
  ]
}